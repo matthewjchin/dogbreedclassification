{
 "cells": [
  {
   "cell_type": "markdown",
   "metadata": {},
   "source": [
    "<h1>Dog Breed Classification</h1>\n",
    "<a id='Intro'></a>\n",
    "<h1>Continued</h1>\n",
    "\n",
    "This is a part two interactive notebook showcasing further modeling on the dog breed classification data. \n",
    "<br>\n",
    "The part one notebook can be found: https://github.com/matthewjchin/dogbreedclassification/blob/main/dog_breed_class.ipynb"
   ]
  },
  {
   "cell_type": "code",
   "execution_count": null,
   "metadata": {
    "_cell_guid": "b1076dfc-b9ad-4769-8c92-a6c4dae69d19",
    "_uuid": "8f2839f25d086af736a60e9eeb907d3b93b6e0e5",
    "execution": {
     "iopub.execute_input": "2025-06-24T09:19:13.082867Z",
     "iopub.status.busy": "2025-06-24T09:19:13.082125Z",
     "iopub.status.idle": "2025-06-24T09:19:55.956274Z",
     "shell.execute_reply": "2025-06-24T09:19:55.955674Z",
     "shell.execute_reply.started": "2025-06-24T09:19:13.082842Z"
    },
    "trusted": true
   },
   "outputs": [],
   "source": [
    "# This Python 3 environment comes with many helpful analytics libraries installed\n",
    "# It is defined by the kaggle/python Docker image: https://github.com/kaggle/docker-python\n",
    "# For example, here's several helpful packages to load\n",
    "# It would be recommended to run this notebook on Colab or Kaggle\n",
    "\n",
    "import numpy as np # linear algebra\n",
    "import pandas as pd # data processing, CSV file I/O (e.g. pd.read_csv)\n",
    "\n",
    "# Input data files are available in the read-only \"../input/\" directory\n",
    "# For example, running this (by clicking run or pressing Shift+Enter) will list all files under the input directory\n",
    "\n",
    "import os\n",
    "for dirname, _, filenames in os.walk('/kaggle/input'):\n",
    "    for filename in filenames:\n",
    "        os.path.join(dirname, filename)\n",
    "\n",
    "# You can write up to 20GB to the current directory (/kaggle/working/) that gets preserved as output when you create a version using \"Save & Run All\" \n",
    "# You can also write temporary files to /kaggle/temp/, but they won't be saved outside of the current session"
   ]
  },
  {
   "cell_type": "code",
   "execution_count": 9,
   "metadata": {
    "execution": {
     "iopub.execute_input": "2025-06-24T09:19:55.957559Z",
     "iopub.status.busy": "2025-06-24T09:19:55.957314Z",
     "iopub.status.idle": "2025-06-24T09:19:56.284511Z",
     "shell.execute_reply": "2025-06-24T09:19:56.283936Z",
     "shell.execute_reply.started": "2025-06-24T09:19:55.957535Z"
    },
    "trusted": true
   },
   "outputs": [],
   "source": [
    "# Import basic libraries\n",
    "import pandas as pd\n",
    "import numpy as np\n",
    "import os\n",
    "\n",
    "# Import plotting libraries\n",
    "import matplotlib.pyplot as plt\n",
    "import seaborn as sns\n",
    "\n",
    "np.random.seed(94)"
   ]
  },
  {
   "cell_type": "code",
   "execution_count": 10,
   "metadata": {
    "execution": {
     "iopub.execute_input": "2025-06-24T09:19:56.286449Z",
     "iopub.status.busy": "2025-06-24T09:19:56.285199Z",
     "iopub.status.idle": "2025-06-24T09:19:56.291427Z",
     "shell.execute_reply": "2025-06-24T09:19:56.290888Z",
     "shell.execute_reply.started": "2025-06-24T09:19:56.286430Z"
    },
    "trusted": true
   },
   "outputs": [
    {
     "data": {
      "text/plain": [
       "'/kaggle/working'"
      ]
     },
     "execution_count": 10,
     "metadata": {},
     "output_type": "execute_result"
    }
   ],
   "source": [
    "os.getcwd()"
   ]
  },
  {
   "cell_type": "code",
   "execution_count": 11,
   "metadata": {
    "execution": {
     "iopub.execute_input": "2025-06-24T09:19:56.292910Z",
     "iopub.status.busy": "2025-06-24T09:19:56.292715Z",
     "iopub.status.idle": "2025-06-24T09:19:56.308718Z",
     "shell.execute_reply": "2025-06-24T09:19:56.307994Z",
     "shell.execute_reply.started": "2025-06-24T09:19:56.292895Z"
    },
    "trusted": true
   },
   "outputs": [
    {
     "data": {
      "text/plain": [
       "'/kaggle/input/dog-breed-identification'"
      ]
     },
     "execution_count": 11,
     "metadata": {},
     "output_type": "execute_result"
    }
   ],
   "source": [
    "os.chdir(\"/kaggle/input/dog-breed-identification\")\n",
    "os.getcwd()"
   ]
  },
  {
   "cell_type": "code",
   "execution_count": 12,
   "metadata": {
    "execution": {
     "iopub.execute_input": "2025-06-24T09:19:56.309554Z",
     "iopub.status.busy": "2025-06-24T09:19:56.309359Z",
     "iopub.status.idle": "2025-06-24T09:19:56.367921Z",
     "shell.execute_reply": "2025-06-24T09:19:56.367271Z",
     "shell.execute_reply.started": "2025-06-24T09:19:56.309528Z"
    },
    "trusted": true
   },
   "outputs": [
    {
     "data": {
      "text/html": [
       "<div>\n",
       "<style scoped>\n",
       "    .dataframe tbody tr th:only-of-type {\n",
       "        vertical-align: middle;\n",
       "    }\n",
       "\n",
       "    .dataframe tbody tr th {\n",
       "        vertical-align: top;\n",
       "    }\n",
       "\n",
       "    .dataframe thead th {\n",
       "        text-align: right;\n",
       "    }\n",
       "</style>\n",
       "<table border=\"1\" class=\"dataframe\">\n",
       "  <thead>\n",
       "    <tr style=\"text-align: right;\">\n",
       "      <th></th>\n",
       "      <th>id</th>\n",
       "      <th>breed</th>\n",
       "    </tr>\n",
       "  </thead>\n",
       "  <tbody>\n",
       "    <tr>\n",
       "      <th>0</th>\n",
       "      <td>000bec180eb18c7604dcecc8fe0dba07</td>\n",
       "      <td>boston_bull</td>\n",
       "    </tr>\n",
       "    <tr>\n",
       "      <th>1</th>\n",
       "      <td>001513dfcb2ffafc82cccf4d8bbaba97</td>\n",
       "      <td>dingo</td>\n",
       "    </tr>\n",
       "    <tr>\n",
       "      <th>2</th>\n",
       "      <td>001cdf01b096e06d78e9e5112d419397</td>\n",
       "      <td>pekinese</td>\n",
       "    </tr>\n",
       "    <tr>\n",
       "      <th>3</th>\n",
       "      <td>00214f311d5d2247d5dfe4fe24b2303d</td>\n",
       "      <td>bluetick</td>\n",
       "    </tr>\n",
       "    <tr>\n",
       "      <th>4</th>\n",
       "      <td>0021f9ceb3235effd7fcde7f7538ed62</td>\n",
       "      <td>golden_retriever</td>\n",
       "    </tr>\n",
       "  </tbody>\n",
       "</table>\n",
       "</div>"
      ],
      "text/plain": [
       "                                 id             breed\n",
       "0  000bec180eb18c7604dcecc8fe0dba07       boston_bull\n",
       "1  001513dfcb2ffafc82cccf4d8bbaba97             dingo\n",
       "2  001cdf01b096e06d78e9e5112d419397          pekinese\n",
       "3  00214f311d5d2247d5dfe4fe24b2303d          bluetick\n",
       "4  0021f9ceb3235effd7fcde7f7538ed62  golden_retriever"
      ]
     },
     "execution_count": 12,
     "metadata": {},
     "output_type": "execute_result"
    }
   ],
   "source": [
    "# The path to the files should not be like this all the time; everything done offline\n",
    "# Actual project is found on Kaggle, but elected to run on own environment which best fit needs\n",
    "labels = pd.read_csv(\"labels.csv\")\n",
    "labels.head()"
   ]
  },
  {
   "cell_type": "code",
   "execution_count": 13,
   "metadata": {
    "execution": {
     "iopub.execute_input": "2025-06-24T09:19:56.368942Z",
     "iopub.status.busy": "2025-06-24T09:19:56.368671Z",
     "iopub.status.idle": "2025-06-24T09:19:56.372442Z",
     "shell.execute_reply": "2025-06-24T09:19:56.371743Z",
     "shell.execute_reply.started": "2025-06-24T09:19:56.368918Z"
    },
    "trusted": true
   },
   "outputs": [],
   "source": [
    "train_dir = '/kaggle/input/dog-breed-identification/train'"
   ]
  },
  {
   "cell_type": "code",
   "execution_count": 14,
   "metadata": {
    "execution": {
     "iopub.execute_input": "2025-06-24T09:19:56.373483Z",
     "iopub.status.busy": "2025-06-24T09:19:56.373142Z",
     "iopub.status.idle": "2025-06-24T09:19:56.395327Z",
     "shell.execute_reply": "2025-06-24T09:19:56.394724Z",
     "shell.execute_reply.started": "2025-06-24T09:19:56.373458Z"
    },
    "trusted": true
   },
   "outputs": [
    {
     "data": {
      "text/html": [
       "<div>\n",
       "<style scoped>\n",
       "    .dataframe tbody tr th:only-of-type {\n",
       "        vertical-align: middle;\n",
       "    }\n",
       "\n",
       "    .dataframe tbody tr th {\n",
       "        vertical-align: top;\n",
       "    }\n",
       "\n",
       "    .dataframe thead th {\n",
       "        text-align: right;\n",
       "    }\n",
       "</style>\n",
       "<table border=\"1\" class=\"dataframe\">\n",
       "  <thead>\n",
       "    <tr style=\"text-align: right;\">\n",
       "      <th></th>\n",
       "      <th>id</th>\n",
       "      <th>breed</th>\n",
       "      <th>path</th>\n",
       "    </tr>\n",
       "  </thead>\n",
       "  <tbody>\n",
       "    <tr>\n",
       "      <th>0</th>\n",
       "      <td>000bec180eb18c7604dcecc8fe0dba07</td>\n",
       "      <td>boston_bull</td>\n",
       "      <td>/kaggle/input/dog-breed-identification/train/0...</td>\n",
       "    </tr>\n",
       "    <tr>\n",
       "      <th>1</th>\n",
       "      <td>001513dfcb2ffafc82cccf4d8bbaba97</td>\n",
       "      <td>dingo</td>\n",
       "      <td>/kaggle/input/dog-breed-identification/train/0...</td>\n",
       "    </tr>\n",
       "    <tr>\n",
       "      <th>2</th>\n",
       "      <td>001cdf01b096e06d78e9e5112d419397</td>\n",
       "      <td>pekinese</td>\n",
       "      <td>/kaggle/input/dog-breed-identification/train/0...</td>\n",
       "    </tr>\n",
       "    <tr>\n",
       "      <th>3</th>\n",
       "      <td>00214f311d5d2247d5dfe4fe24b2303d</td>\n",
       "      <td>bluetick</td>\n",
       "      <td>/kaggle/input/dog-breed-identification/train/0...</td>\n",
       "    </tr>\n",
       "    <tr>\n",
       "      <th>4</th>\n",
       "      <td>0021f9ceb3235effd7fcde7f7538ed62</td>\n",
       "      <td>golden_retriever</td>\n",
       "      <td>/kaggle/input/dog-breed-identification/train/0...</td>\n",
       "    </tr>\n",
       "  </tbody>\n",
       "</table>\n",
       "</div>"
      ],
      "text/plain": [
       "                                 id             breed  \\\n",
       "0  000bec180eb18c7604dcecc8fe0dba07       boston_bull   \n",
       "1  001513dfcb2ffafc82cccf4d8bbaba97             dingo   \n",
       "2  001cdf01b096e06d78e9e5112d419397          pekinese   \n",
       "3  00214f311d5d2247d5dfe4fe24b2303d          bluetick   \n",
       "4  0021f9ceb3235effd7fcde7f7538ed62  golden_retriever   \n",
       "\n",
       "                                                path  \n",
       "0  /kaggle/input/dog-breed-identification/train/0...  \n",
       "1  /kaggle/input/dog-breed-identification/train/0...  \n",
       "2  /kaggle/input/dog-breed-identification/train/0...  \n",
       "3  /kaggle/input/dog-breed-identification/train/0...  \n",
       "4  /kaggle/input/dog-breed-identification/train/0...  "
      ]
     },
     "execution_count": 14,
     "metadata": {},
     "output_type": "execute_result"
    }
   ],
   "source": [
    "# Add entire folder path to image files and make it a column\n",
    "labels['path'] = labels['id'].apply(lambda x : train_dir + \"/\"+ x + '.jpg')\n",
    "labels.head()"
   ]
  },
  {
   "cell_type": "code",
   "execution_count": 15,
   "metadata": {
    "execution": {
     "iopub.execute_input": "2025-06-24T09:19:56.396180Z",
     "iopub.status.busy": "2025-06-24T09:19:56.395972Z",
     "iopub.status.idle": "2025-06-24T09:19:56.410637Z",
     "shell.execute_reply": "2025-06-24T09:19:56.410004Z",
     "shell.execute_reply.started": "2025-06-24T09:19:56.396143Z"
    },
    "trusted": true
   },
   "outputs": [],
   "source": [
    "# Import TensorFlow, Keras, Scikit-learn libraries to be used\n",
    "\n",
    "import tensorflow as tf # Use tf v2.12.0\n",
    "import keras\n",
    "from keras import layers, models, callbacks, optimizers\n",
    "from keras.src.legacy.preprocessing.image import ImageDataGenerator\n",
    "from keras.preprocessing.image import img_to_array, load_img\n",
    "from keras.callbacks import EarlyStopping, ReduceLROnPlateau\n",
    "\n",
    "from keras.models import Sequential\n",
    "from keras.layers import Conv2D, MaxPooling2D\n",
    "from keras.layers import Activation, Dropout, Flatten, Dense\n",
    "from keras import backend as K\n",
    "\n",
    "from sklearn.preprocessing import LabelEncoder\n",
    "from sklearn.model_selection import train_test_split\n",
    "from sklearn.metrics import roc_auc_score\n",
    "\n",
    "tf.random.set_seed(104)"
   ]
  },
  {
   "cell_type": "code",
   "execution_count": 16,
   "metadata": {
    "execution": {
     "iopub.execute_input": "2025-06-24T09:19:56.411395Z",
     "iopub.status.busy": "2025-06-24T09:19:56.411234Z",
     "iopub.status.idle": "2025-06-24T09:19:56.430151Z",
     "shell.execute_reply": "2025-06-24T09:19:56.429591Z",
     "shell.execute_reply.started": "2025-06-24T09:19:56.411382Z"
    },
    "trusted": true
   },
   "outputs": [
    {
     "name": "stdout",
     "output_type": "stream",
     "text": [
      "2.18.0 3.8.0\n"
     ]
    }
   ],
   "source": [
    "# Get the TensorFlow Version - we are using v2.12.0\n",
    "print(tf.__version__, keras.__version__)"
   ]
  },
  {
   "cell_type": "code",
   "execution_count": 17,
   "metadata": {
    "execution": {
     "iopub.execute_input": "2025-06-24T09:19:56.431965Z",
     "iopub.status.busy": "2025-06-24T09:19:56.431772Z",
     "iopub.status.idle": "2025-06-24T09:19:56.447494Z",
     "shell.execute_reply": "2025-06-24T09:19:56.446970Z",
     "shell.execute_reply.started": "2025-06-24T09:19:56.431950Z"
    },
    "trusted": true
   },
   "outputs": [],
   "source": [
    "# Set up constants for model\n",
    "RANDOM_STATE = 50\n",
    "IMG_SIZE = 256\n",
    "DOG_BREEDS = len(labels['breed'].unique())\n",
    "LEARNING_RATE = 0.005\n",
    "BATCH_SIZE = 32\n",
    "\n",
    "# Epochs value may vary based on number of tests\n",
    "EPOCHS = 5"
   ]
  },
  {
   "cell_type": "code",
   "execution_count": 18,
   "metadata": {
    "execution": {
     "iopub.execute_input": "2025-06-24T09:19:56.448223Z",
     "iopub.status.busy": "2025-06-24T09:19:56.448033Z",
     "iopub.status.idle": "2025-06-24T09:19:56.462344Z",
     "shell.execute_reply": "2025-06-24T09:19:56.461616Z",
     "shell.execute_reply.started": "2025-06-24T09:19:56.448202Z"
    },
    "trusted": true
   },
   "outputs": [
    {
     "name": "stdout",
     "output_type": "stream",
     "text": [
      "GPU being used for training\n",
      "GPU Name: /physical_device:GPU:0\n",
      "GPU Name: /physical_device:GPU:1\n"
     ]
    }
   ],
   "source": [
    "# Check if GPU is available - only on Colab or Kaggle\n",
    "\n",
    "gpus = tf.config.list_physical_devices('GPU')\n",
    "\n",
    "if gpus:\n",
    "    print(\"GPU being used for training\")\n",
    "    for gpu in gpus:\n",
    "        print(f\"GPU Name: {gpu.name}\")\n",
    "else: # Use CPU\n",
    "    BATCH_SIZE=16\n",
    "    EPOCHS = 5\n",
    "    print(\"Using CPU\")\n"
   ]
  },
  {
   "cell_type": "code",
   "execution_count": 19,
   "metadata": {
    "execution": {
     "iopub.execute_input": "2025-06-24T09:19:56.463563Z",
     "iopub.status.busy": "2025-06-24T09:19:56.463045Z",
     "iopub.status.idle": "2025-06-24T09:19:56.483683Z",
     "shell.execute_reply": "2025-06-24T09:19:56.482945Z",
     "shell.execute_reply.started": "2025-06-24T09:19:56.463539Z"
    },
    "trusted": true
   },
   "outputs": [
    {
     "data": {
      "text/html": [
       "<div>\n",
       "<style scoped>\n",
       "    .dataframe tbody tr th:only-of-type {\n",
       "        vertical-align: middle;\n",
       "    }\n",
       "\n",
       "    .dataframe tbody tr th {\n",
       "        vertical-align: top;\n",
       "    }\n",
       "\n",
       "    .dataframe thead th {\n",
       "        text-align: right;\n",
       "    }\n",
       "</style>\n",
       "<table border=\"1\" class=\"dataframe\">\n",
       "  <thead>\n",
       "    <tr style=\"text-align: right;\">\n",
       "      <th></th>\n",
       "      <th>id</th>\n",
       "      <th>breed</th>\n",
       "      <th>path</th>\n",
       "      <th>breed_id</th>\n",
       "    </tr>\n",
       "  </thead>\n",
       "  <tbody>\n",
       "    <tr>\n",
       "      <th>0</th>\n",
       "      <td>000bec180eb18c7604dcecc8fe0dba07</td>\n",
       "      <td>boston_bull</td>\n",
       "      <td>/kaggle/input/dog-breed-identification/train/0...</td>\n",
       "      <td>19</td>\n",
       "    </tr>\n",
       "    <tr>\n",
       "      <th>1</th>\n",
       "      <td>001513dfcb2ffafc82cccf4d8bbaba97</td>\n",
       "      <td>dingo</td>\n",
       "      <td>/kaggle/input/dog-breed-identification/train/0...</td>\n",
       "      <td>37</td>\n",
       "    </tr>\n",
       "    <tr>\n",
       "      <th>2</th>\n",
       "      <td>001cdf01b096e06d78e9e5112d419397</td>\n",
       "      <td>pekinese</td>\n",
       "      <td>/kaggle/input/dog-breed-identification/train/0...</td>\n",
       "      <td>85</td>\n",
       "    </tr>\n",
       "    <tr>\n",
       "      <th>3</th>\n",
       "      <td>00214f311d5d2247d5dfe4fe24b2303d</td>\n",
       "      <td>bluetick</td>\n",
       "      <td>/kaggle/input/dog-breed-identification/train/0...</td>\n",
       "      <td>15</td>\n",
       "    </tr>\n",
       "    <tr>\n",
       "      <th>4</th>\n",
       "      <td>0021f9ceb3235effd7fcde7f7538ed62</td>\n",
       "      <td>golden_retriever</td>\n",
       "      <td>/kaggle/input/dog-breed-identification/train/0...</td>\n",
       "      <td>49</td>\n",
       "    </tr>\n",
       "  </tbody>\n",
       "</table>\n",
       "</div>"
      ],
      "text/plain": [
       "                                 id             breed  \\\n",
       "0  000bec180eb18c7604dcecc8fe0dba07       boston_bull   \n",
       "1  001513dfcb2ffafc82cccf4d8bbaba97             dingo   \n",
       "2  001cdf01b096e06d78e9e5112d419397          pekinese   \n",
       "3  00214f311d5d2247d5dfe4fe24b2303d          bluetick   \n",
       "4  0021f9ceb3235effd7fcde7f7538ed62  golden_retriever   \n",
       "\n",
       "                                                path  breed_id  \n",
       "0  /kaggle/input/dog-breed-identification/train/0...        19  \n",
       "1  /kaggle/input/dog-breed-identification/train/0...        37  \n",
       "2  /kaggle/input/dog-breed-identification/train/0...        85  \n",
       "3  /kaggle/input/dog-breed-identification/train/0...        15  \n",
       "4  /kaggle/input/dog-breed-identification/train/0...        49  "
      ]
     },
     "execution_count": 19,
     "metadata": {},
     "output_type": "execute_result"
    }
   ],
   "source": [
    "# Create a label encoding\n",
    "encoder = LabelEncoder()\n",
    "labels['breed_id']= encoder.fit_transform(labels['breed'])\n",
    "labels.head()\n"
   ]
  },
  {
   "cell_type": "code",
   "execution_count": 20,
   "metadata": {
    "execution": {
     "iopub.execute_input": "2025-06-24T09:19:56.484998Z",
     "iopub.status.busy": "2025-06-24T09:19:56.484487Z",
     "iopub.status.idle": "2025-06-24T09:21:34.429509Z",
     "shell.execute_reply": "2025-06-24T09:21:34.428819Z",
     "shell.execute_reply.started": "2025-06-24T09:19:56.484971Z"
    },
    "trusted": true
   },
   "outputs": [
    {
     "name": "stdout",
     "output_type": "stream",
     "text": [
      "(10222, 256, 256, 3) (10222, 120)\n"
     ]
    }
   ],
   "source": [
    "'''Set up variables x, y to load images from train_dir into array/matrix form (seen in last cell)\n",
    "Adjust size as appropriate and put everything in list form\n",
    "Create dataset y of dummy variables of dog breeds and then get shapes\n",
    "\n",
    "x - type numpy array\n",
    "y - type dataframe\n",
    "'''\n",
    "\n",
    "\n",
    "x= np.array([img_to_array(load_img(image, target_size=(IMG_SIZE, IMG_SIZE)))\n",
    "             for image in labels['path'].values.tolist()])\n",
    "y = pd.get_dummies(labels['breed'])\n",
    "print(x.shape, y.shape)"
   ]
  },
  {
   "cell_type": "code",
   "execution_count": 22,
   "metadata": {
    "execution": {
     "iopub.execute_input": "2025-06-24T09:23:17.555374Z",
     "iopub.status.busy": "2025-06-24T09:23:17.554801Z",
     "iopub.status.idle": "2025-06-24T09:23:19.237266Z",
     "shell.execute_reply": "2025-06-24T09:23:19.236567Z",
     "shell.execute_reply.started": "2025-06-24T09:23:17.555350Z"
    },
    "trusted": true
   },
   "outputs": [
    {
     "name": "stdout",
     "output_type": "stream",
     "text": [
      "(8177, 256, 256, 3) (8177, 120)\n",
      "(2045, 256, 256, 3) (2045, 120)\n"
     ]
    }
   ],
   "source": [
    "# Do the train-test split\n",
    "# Implement the training and validation sets for x, y so that train-test size is 80%-20%\n",
    " \n",
    "x_train, x_valid, y_train, y_valid = train_test_split(x, y, test_size=0.2)\n",
    "\n",
    "print(x_train.shape,y_train.shape)\n",
    "print(x_valid.shape,y_valid.shape)"
   ]
  },
  {
   "cell_type": "code",
   "execution_count": 23,
   "metadata": {
    "execution": {
     "iopub.execute_input": "2025-06-24T09:23:28.844919Z",
     "iopub.status.busy": "2025-06-24T09:23:28.844242Z",
     "iopub.status.idle": "2025-06-24T09:23:28.849026Z",
     "shell.execute_reply": "2025-06-24T09:23:28.848235Z",
     "shell.execute_reply.started": "2025-06-24T09:23:28.844894Z"
    },
    "trusted": true
   },
   "outputs": [
    {
     "name": "stdout",
     "output_type": "stream",
     "text": [
      "<class 'numpy.ndarray'> <class 'numpy.ndarray'> <class 'pandas.core.frame.DataFrame'> <class 'pandas.core.frame.DataFrame'>\n",
      "float32 float32\n"
     ]
    }
   ],
   "source": [
    "print(type(x_train), type(x_valid), type(y_train), type(y_valid))\n",
    "print(x_train.dtype, x_valid.dtype)"
   ]
  },
  {
   "cell_type": "code",
   "execution_count": null,
   "metadata": {
    "trusted": true
   },
   "outputs": [],
   "source": [
    "# len(base_model.layers)"
   ]
  },
  {
   "cell_type": "code",
   "execution_count": null,
   "metadata": {
    "trusted": true
   },
   "outputs": [],
   "source": [
    "# base_model.layers"
   ]
  },
  {
   "cell_type": "code",
   "execution_count": null,
   "metadata": {
    "trusted": true
   },
   "outputs": [],
   "source": []
  },
  {
   "cell_type": "markdown",
   "metadata": {},
   "source": [
    "<a id='Different'></a>\n",
    "## <h1>Trying a Different Model</h1>\n",
    "\n",
    "Try another model to see if we can get better predictions.<br>\n",
    "Use VGG16 deep CNN for image classification, where there are 16 layers of artificial neurons.<br>\n",
    "\n",
    "First, perform some image augmentation using ImageDataGenerator on the train data.<br>\n",
    "Also, set up a data generator for validation data.<br>\n",
    "\n",
    "We will use VGG16 as the architecture to try and get better predictions."
   ]
  },
  {
   "cell_type": "code",
   "execution_count": 21,
   "metadata": {
    "execution": {
     "iopub.execute_input": "2025-06-24T09:21:34.430481Z",
     "iopub.status.busy": "2025-06-24T09:21:34.430202Z",
     "iopub.status.idle": "2025-06-24T09:21:34.434408Z",
     "shell.execute_reply": "2025-06-24T09:21:34.433633Z",
     "shell.execute_reply.started": "2025-06-24T09:21:34.430461Z"
    },
    "trusted": true
   },
   "outputs": [],
   "source": [
    "\n",
    "train_data_gen = ImageDataGenerator(\n",
    "    rescale=1./255., rotation_range=40,\n",
    "    width_shift_range=0.2, height_shift_range=0.2, shear_range=0.2,\n",
    "    zoom_range=0.2, horizontal_flip=True\n",
    ")\n",
    "\n",
    "valid__data_gen = ImageDataGenerator(rescale=1./ 255.)"
   ]
  },
  {
   "cell_type": "code",
   "execution_count": null,
   "metadata": {
    "trusted": true
   },
   "outputs": [],
   "source": [
    "from keras import layers\n",
    "from keras import models\n",
    "\n",
    "from keras.applications import (ResNet50, ResNet101, \n",
    "                                InceptionResNetV2, InceptionV3,\n",
    "                                EfficientNetB0, \n",
    "                                VGG16, VGG19)\n",
    "\n",
    "img_shape = (IMG_SIZE, IMG_SIZE, 3)\n",
    "base_model = VGG16(input_shape=img_shape, include_top=False, weights='imagenet')\n",
    "\n",
    "for layer in base_model.layers: # Not needed to train all 16 layers\n",
    "    layer.trainable = False\n"
   ]
  },
  {
   "cell_type": "code",
   "execution_count": null,
   "metadata": {
    "trusted": true
   },
   "outputs": [],
   "source": [
    "base_model.summary()"
   ]
  },
  {
   "cell_type": "code",
   "execution_count": null,
   "metadata": {
    "trusted": true
   },
   "outputs": [],
   "source": [
    "last_layer = base_model.get_layer('block5_pool')"
   ]
  },
  {
   "cell_type": "code",
   "execution_count": null,
   "metadata": {},
   "outputs": [
    {
     "data": {
      "text/plain": [
       "'keras_tensor_239'"
      ]
     },
     "metadata": {},
     "output_type": "display_data"
    }
   ],
   "source": [
    "last_layer_output = last_layer.output\n",
    "last_layer_output.name"
   ]
  },
  {
   "cell_type": "code",
   "execution_count": null,
   "metadata": {},
   "outputs": [
    {
     "data": {
      "text/plain": [
       "(None, 8, 8, 512)"
      ]
     },
     "metadata": {},
     "output_type": "display_data"
    }
   ],
   "source": [
    "last_layer_output.shape"
   ]
  },
  {
   "cell_type": "code",
   "execution_count": null,
   "metadata": {},
   "outputs": [],
   "source": [
    "from keras import optimizers\n",
    "# Set up layers for the model, then initialize using base to compile the model\n",
    "\n",
    "# Get layers to be one single dimension\n",
    "x = layers.Flatten()(last_layer_output)\n",
    "\n",
    "# Add a layer with 256 units and ReLU, which would make this layer fully connected\n",
    "x = layers.Dense(256, activation='relu')(x)\n",
    "\n",
    "# Normalize the batch\n",
    "x = layers.BatchNormalization()(x)\n",
    "\n",
    "# Add another layer with 256 units and ReLU, which would make this layer fully connected\n",
    "x = layers.Dense(256, activation='relu')(x)\n",
    "\n",
    "# Make a sigmoid layer with sigmoid\n",
    "x = layers.Dense(1, activation='sigmoid')(x)\n",
    "\n",
    "# Set dropout rate to 0.6\n",
    "x = layers.Dropout(0.6)(x)\n",
    "\n",
    "# Normalize the batch again\n",
    "x = layers.BatchNormalization()(x)\n",
    "\n",
    "# Initialize the output variable using dense softmax layer\n",
    "output = layers.Dense(120, activation='softmax')(x)\n",
    "\n",
    "model = models.Model(base_model.input, output)\n",
    "# model.compile(optimizer=optimizers.RMSprop(learning_rate=0.0005), \n",
    "#               loss='binary_crossentropy', metrics=['acc'])\n",
    "\n",
    "model.compile(\n",
    "\toptimizer='adam',\n",
    "\tloss='categorical_crossentropy',\n",
    "\tmetrics=[tf.keras.metrics.AUC()]\n",
    ")\n",
    "\n"
   ]
  },
  {
   "cell_type": "code",
   "execution_count": null,
   "metadata": {},
   "outputs": [],
   "source": [
    "# history = model.fit(train_ds, validation_data=val_ds,\n",
    "#                     epochs=10, verbose=1,\n",
    "#                    )\n",
    "\n",
    "# from keras import losses\n",
    "\n",
    "# # Model Architecture\n",
    "# x = layers.Flatten()(last_layer_output)\n",
    "# x = layers.Dense(256, activation='relu')(x)\n",
    "# x = layers.BatchNormalization()(x)\n",
    "# x = layers.Dense(256, activation='relu')(x)\n",
    "# x = layers.Dropout(0.3)(x)\n",
    "# x = layers.BatchNormalization()(x)\n",
    "# output = layers.Dense(120, activation='softmax')(x)\n",
    "\n",
    "# model = models.Model(base_model.input, output)\n",
    "\n",
    "# # Model Compilation\n",
    "# model.compile(\n",
    "# \toptimizer='adam',\n",
    "# \tloss=losses.CategoricalCrossentropy(from_logits=True),\n",
    "# \tmetrics=[tf.keras.metrics.AUC()]\n",
    "# )"
   ]
  },
  {
   "cell_type": "code",
   "execution_count": 1,
   "metadata": {},
   "outputs": [],
   "source": [
    "# class myCallback(tf.keras.callbacks.Callback):\n",
    "# \tdef on_epoch_end(self, epoch, logs={}):\n",
    "# \t\tif logs.get('val_auc') is not None and logs.get('val_auc') > 0.99:\n",
    "# \t\t\tprint('\\n Validation accuracy has reached upto 90% so, stopping further training.')\n",
    "# \t\t\tself.model.stop_training = True\n",
    "\n",
    "# es = EarlyStopping(patience=3,\n",
    "#                 monitor='val_auc',\n",
    "#                 restore_best_weights=True,\n",
    "#                 mode='max')\n",
    "\n",
    "# lr = ReduceLROnPlateau(monitor='val_loss',\n",
    "# \t\t\t\t\tpatience=2,\n",
    "# \t\t\t\t\tfactor=0.5,\n",
    "# \t\t\t\t\tverbose=1)"
   ]
  },
  {
   "cell_type": "code",
   "execution_count": null,
   "metadata": {
    "trusted": true
   },
   "outputs": [],
   "source": [
    "# base_model = InceptionV3(\n",
    "#     input_shape=(128, 128, 3),\n",
    "#     weights='imagenet',\n",
    "#     include_top=False\n",
    "# )"
   ]
  },
  {
   "cell_type": "code",
   "execution_count": null,
   "metadata": {
    "trusted": true
   },
   "outputs": [],
   "source": [
    "# # Create data generators for ImageDataGenerators\n",
    "# train_gen = train_gen.flow_from_dataframe(train_set, train_dir, 'id', 'breed', target_size=(IMG_SIZE, IMG_SIZE),\n",
    "#                                           batch_size=BATCH_SIZE, class_mode='categorical')\n",
    "# test_gen = test_gen.flow_from_dataframe(test_set, train_dir, 'id', 'breed', target_size=(IMG_SIZE, IMG_SIZE),\n",
    "#                                           batch_size=BATCH_SIZE, class_mode='categorical')\n",
    "# valid_gen = valid_gen.flow_from_dataframe(valid_set, val_dir, 'id', 'breed', target_size=(IMG_SIZE, IMG_SIZE),\n",
    "#                                           batch_size=BATCH_SIZE, class_mode='categorical')\n"
   ]
  },
  {
   "cell_type": "code",
   "execution_count": null,
   "metadata": {
    "trusted": true
   },
   "outputs": [],
   "source": []
  },
  {
   "cell_type": "code",
   "execution_count": null,
   "metadata": {
    "trusted": true
   },
   "outputs": [],
   "source": []
  },
  {
   "cell_type": "code",
   "execution_count": null,
   "metadata": {
    "trusted": true
   },
   "outputs": [],
   "source": []
  }
 ],
 "metadata": {
  "kaggle": {
   "accelerator": "nvidiaTeslaT4",
   "dataSources": [
    {
     "databundleVersionId": 861871,
     "sourceId": 7327,
     "sourceType": "competition"
    }
   ],
   "dockerImageVersionId": 31041,
   "isGpuEnabled": true,
   "isInternetEnabled": true,
   "language": "python",
   "sourceType": "notebook"
  },
  "kernelspec": {
   "display_name": "base",
   "language": "python",
   "name": "python3"
  },
  "language_info": {
   "codemirror_mode": {
    "name": "ipython",
    "version": 3
   },
   "file_extension": ".py",
   "mimetype": "text/x-python",
   "name": "python",
   "nbconvert_exporter": "python",
   "pygments_lexer": "ipython3",
   "version": "3.12.2"
  }
 },
 "nbformat": 4,
 "nbformat_minor": 4
}
