{
 "cells": [
  {
   "cell_type": "markdown",
   "metadata": {},
   "source": [
    "<h1>Dog Breed Classification</h1>\n",
    "<a id='Intro'></a>\n",
    "<h1>Continued</h1>\n",
    "\n",
    "This is a part two interactive notebook showcasing further modeling on the dog breed classification data. \n",
    "<br>\n",
    "The part one notebook can be found: https://github.com/matthewjchin/dogbreedclassification/blob/main/dog_breed_class.ipynb"
   ]
  },
  {
   "cell_type": "code",
   "execution_count": 1,
   "metadata": {
    "_cell_guid": "b1076dfc-b9ad-4769-8c92-a6c4dae69d19",
    "_uuid": "8f2839f25d086af736a60e9eeb907d3b93b6e0e5",
    "execution": {
     "iopub.execute_input": "2025-06-24T09:19:13.082867Z",
     "iopub.status.busy": "2025-06-24T09:19:13.082125Z",
     "iopub.status.idle": "2025-06-24T09:19:55.956274Z",
     "shell.execute_reply": "2025-06-24T09:19:55.955674Z",
     "shell.execute_reply.started": "2025-06-24T09:19:13.082842Z"
    },
    "trusted": true
   },
   "outputs": [],
   "source": [
    "# # This Python 3 environment comes with many helpful analytics libraries installed\n",
    "# # It is defined by the kaggle/python Docker image: https://github.com/kaggle/docker-python\n",
    "# # For example, here's several helpful packages to load\n",
    "# # It would be recommended to run this notebook on Colab or Kaggle\n",
    "\n",
    "# # Input data files are available in the read-only \"../input/\" directory\n",
    "# # For example, running this (by clicking run or pressing Shift+Enter) will list all files under the input directory\n",
    "\n",
    "# import os\n",
    "# for dirname, _, filenames in os.walk('/kaggle/input'):\n",
    "#     for filename in filenames:\n",
    "#         os.path.join(dirname, filename)\n",
    "\n",
    "# # You can write up to 20GB to the current directory (/kaggle/working/) that gets preserved as output when you create a version using \"Save & Run All\" \n",
    "# # You can also write temporary files to /kaggle/temp/, but they won't be saved outside of the current session"
   ]
  },
  {
   "cell_type": "code",
   "execution_count": 2,
   "metadata": {
    "execution": {
     "iopub.execute_input": "2025-06-24T09:19:55.957559Z",
     "iopub.status.busy": "2025-06-24T09:19:55.957314Z",
     "iopub.status.idle": "2025-06-24T09:19:56.284511Z",
     "shell.execute_reply": "2025-06-24T09:19:56.283936Z",
     "shell.execute_reply.started": "2025-06-24T09:19:55.957535Z"
    },
    "trusted": true
   },
   "outputs": [],
   "source": [
    "# Import basic libraries\n",
    "import pandas as pd\n",
    "import numpy as np\n",
    "import os\n",
    "\n",
    "# Import plotting libraries\n",
    "import matplotlib.pyplot as plt\n",
    "import seaborn as sns\n",
    "\n",
    "np.random.seed(94)"
   ]
  },
  {
   "cell_type": "code",
   "execution_count": 3,
   "metadata": {
    "execution": {
     "iopub.execute_input": "2025-06-24T09:19:56.286449Z",
     "iopub.status.busy": "2025-06-24T09:19:56.285199Z",
     "iopub.status.idle": "2025-06-24T09:19:56.291427Z",
     "shell.execute_reply": "2025-06-24T09:19:56.290888Z",
     "shell.execute_reply.started": "2025-06-24T09:19:56.286430Z"
    },
    "trusted": true
   },
   "outputs": [
    {
     "data": {
      "text/plain": [
       "'/Users/mjchin/Desktop/CUB_OMS_CS/Summer_2025/CSCA_5642_Intro_DL/FinalProject/dogbreedclassification'"
      ]
     },
     "execution_count": 3,
     "metadata": {},
     "output_type": "execute_result"
    }
   ],
   "source": [
    "os.getcwd()"
   ]
  },
  {
   "cell_type": "code",
   "execution_count": 4,
   "metadata": {
    "execution": {
     "iopub.execute_input": "2025-06-24T09:19:56.292910Z",
     "iopub.status.busy": "2025-06-24T09:19:56.292715Z",
     "iopub.status.idle": "2025-06-24T09:19:56.308718Z",
     "shell.execute_reply": "2025-06-24T09:19:56.307994Z",
     "shell.execute_reply.started": "2025-06-24T09:19:56.292895Z"
    },
    "trusted": true
   },
   "outputs": [],
   "source": [
    "# os.chdir(\"/kaggle/input/dog-breed-identification\")\n",
    "# os.getcwd()"
   ]
  },
  {
   "cell_type": "code",
   "execution_count": 5,
   "metadata": {
    "execution": {
     "iopub.execute_input": "2025-06-24T09:19:56.309554Z",
     "iopub.status.busy": "2025-06-24T09:19:56.309359Z",
     "iopub.status.idle": "2025-06-24T09:19:56.367921Z",
     "shell.execute_reply": "2025-06-24T09:19:56.367271Z",
     "shell.execute_reply.started": "2025-06-24T09:19:56.309528Z"
    },
    "trusted": true
   },
   "outputs": [
    {
     "data": {
      "text/html": [
       "<div>\n",
       "<style scoped>\n",
       "    .dataframe tbody tr th:only-of-type {\n",
       "        vertical-align: middle;\n",
       "    }\n",
       "\n",
       "    .dataframe tbody tr th {\n",
       "        vertical-align: top;\n",
       "    }\n",
       "\n",
       "    .dataframe thead th {\n",
       "        text-align: right;\n",
       "    }\n",
       "</style>\n",
       "<table border=\"1\" class=\"dataframe\">\n",
       "  <thead>\n",
       "    <tr style=\"text-align: right;\">\n",
       "      <th></th>\n",
       "      <th>id</th>\n",
       "      <th>breed</th>\n",
       "    </tr>\n",
       "  </thead>\n",
       "  <tbody>\n",
       "    <tr>\n",
       "      <th>0</th>\n",
       "      <td>000bec180eb18c7604dcecc8fe0dba07</td>\n",
       "      <td>boston_bull</td>\n",
       "    </tr>\n",
       "    <tr>\n",
       "      <th>1</th>\n",
       "      <td>001513dfcb2ffafc82cccf4d8bbaba97</td>\n",
       "      <td>dingo</td>\n",
       "    </tr>\n",
       "    <tr>\n",
       "      <th>2</th>\n",
       "      <td>001cdf01b096e06d78e9e5112d419397</td>\n",
       "      <td>pekinese</td>\n",
       "    </tr>\n",
       "    <tr>\n",
       "      <th>3</th>\n",
       "      <td>00214f311d5d2247d5dfe4fe24b2303d</td>\n",
       "      <td>bluetick</td>\n",
       "    </tr>\n",
       "    <tr>\n",
       "      <th>4</th>\n",
       "      <td>0021f9ceb3235effd7fcde7f7538ed62</td>\n",
       "      <td>golden_retriever</td>\n",
       "    </tr>\n",
       "  </tbody>\n",
       "</table>\n",
       "</div>"
      ],
      "text/plain": [
       "                                 id             breed\n",
       "0  000bec180eb18c7604dcecc8fe0dba07       boston_bull\n",
       "1  001513dfcb2ffafc82cccf4d8bbaba97             dingo\n",
       "2  001cdf01b096e06d78e9e5112d419397          pekinese\n",
       "3  00214f311d5d2247d5dfe4fe24b2303d          bluetick\n",
       "4  0021f9ceb3235effd7fcde7f7538ed62  golden_retriever"
      ]
     },
     "execution_count": 5,
     "metadata": {},
     "output_type": "execute_result"
    }
   ],
   "source": [
    "# The path to the files should not be like this all the time; everything done offline\n",
    "# Actual project is found on Kaggle, but elected to run on own environment which best fit needs\n",
    "labels = pd.read_csv(\"labels.csv\")\n",
    "labels.head()"
   ]
  },
  {
   "cell_type": "code",
   "execution_count": 6,
   "metadata": {
    "execution": {
     "iopub.execute_input": "2025-06-24T09:19:56.368942Z",
     "iopub.status.busy": "2025-06-24T09:19:56.368671Z",
     "iopub.status.idle": "2025-06-24T09:19:56.372442Z",
     "shell.execute_reply": "2025-06-24T09:19:56.371743Z",
     "shell.execute_reply.started": "2025-06-24T09:19:56.368918Z"
    },
    "trusted": true
   },
   "outputs": [],
   "source": [
    "# train_dir = '/kaggle/input/dog-breed-identification/train'\n",
    "# Locally, not on Kaggle\n",
    "\n",
    "train_dir = 'dog-breed-identification/train'"
   ]
  },
  {
   "cell_type": "code",
   "execution_count": 7,
   "metadata": {
    "execution": {
     "iopub.execute_input": "2025-06-24T09:19:56.373483Z",
     "iopub.status.busy": "2025-06-24T09:19:56.373142Z",
     "iopub.status.idle": "2025-06-24T09:19:56.395327Z",
     "shell.execute_reply": "2025-06-24T09:19:56.394724Z",
     "shell.execute_reply.started": "2025-06-24T09:19:56.373458Z"
    },
    "trusted": true
   },
   "outputs": [
    {
     "data": {
      "text/html": [
       "<div>\n",
       "<style scoped>\n",
       "    .dataframe tbody tr th:only-of-type {\n",
       "        vertical-align: middle;\n",
       "    }\n",
       "\n",
       "    .dataframe tbody tr th {\n",
       "        vertical-align: top;\n",
       "    }\n",
       "\n",
       "    .dataframe thead th {\n",
       "        text-align: right;\n",
       "    }\n",
       "</style>\n",
       "<table border=\"1\" class=\"dataframe\">\n",
       "  <thead>\n",
       "    <tr style=\"text-align: right;\">\n",
       "      <th></th>\n",
       "      <th>id</th>\n",
       "      <th>breed</th>\n",
       "      <th>path</th>\n",
       "    </tr>\n",
       "  </thead>\n",
       "  <tbody>\n",
       "    <tr>\n",
       "      <th>0</th>\n",
       "      <td>000bec180eb18c7604dcecc8fe0dba07</td>\n",
       "      <td>boston_bull</td>\n",
       "      <td>dog-breed-identification/train/000bec180eb18c7...</td>\n",
       "    </tr>\n",
       "    <tr>\n",
       "      <th>1</th>\n",
       "      <td>001513dfcb2ffafc82cccf4d8bbaba97</td>\n",
       "      <td>dingo</td>\n",
       "      <td>dog-breed-identification/train/001513dfcb2ffaf...</td>\n",
       "    </tr>\n",
       "    <tr>\n",
       "      <th>2</th>\n",
       "      <td>001cdf01b096e06d78e9e5112d419397</td>\n",
       "      <td>pekinese</td>\n",
       "      <td>dog-breed-identification/train/001cdf01b096e06...</td>\n",
       "    </tr>\n",
       "    <tr>\n",
       "      <th>3</th>\n",
       "      <td>00214f311d5d2247d5dfe4fe24b2303d</td>\n",
       "      <td>bluetick</td>\n",
       "      <td>dog-breed-identification/train/00214f311d5d224...</td>\n",
       "    </tr>\n",
       "    <tr>\n",
       "      <th>4</th>\n",
       "      <td>0021f9ceb3235effd7fcde7f7538ed62</td>\n",
       "      <td>golden_retriever</td>\n",
       "      <td>dog-breed-identification/train/0021f9ceb3235ef...</td>\n",
       "    </tr>\n",
       "  </tbody>\n",
       "</table>\n",
       "</div>"
      ],
      "text/plain": [
       "                                 id             breed  \\\n",
       "0  000bec180eb18c7604dcecc8fe0dba07       boston_bull   \n",
       "1  001513dfcb2ffafc82cccf4d8bbaba97             dingo   \n",
       "2  001cdf01b096e06d78e9e5112d419397          pekinese   \n",
       "3  00214f311d5d2247d5dfe4fe24b2303d          bluetick   \n",
       "4  0021f9ceb3235effd7fcde7f7538ed62  golden_retriever   \n",
       "\n",
       "                                                path  \n",
       "0  dog-breed-identification/train/000bec180eb18c7...  \n",
       "1  dog-breed-identification/train/001513dfcb2ffaf...  \n",
       "2  dog-breed-identification/train/001cdf01b096e06...  \n",
       "3  dog-breed-identification/train/00214f311d5d224...  \n",
       "4  dog-breed-identification/train/0021f9ceb3235ef...  "
      ]
     },
     "execution_count": 7,
     "metadata": {},
     "output_type": "execute_result"
    }
   ],
   "source": [
    "# Add entire folder path to image files and make it a column\n",
    "labels['path'] = labels['id'].apply(lambda x : train_dir + \"/\"+ x + '.jpg')\n",
    "labels.head()"
   ]
  },
  {
   "cell_type": "code",
   "execution_count": 8,
   "metadata": {
    "execution": {
     "iopub.execute_input": "2025-06-24T09:19:56.396180Z",
     "iopub.status.busy": "2025-06-24T09:19:56.395972Z",
     "iopub.status.idle": "2025-06-24T09:19:56.410637Z",
     "shell.execute_reply": "2025-06-24T09:19:56.410004Z",
     "shell.execute_reply.started": "2025-06-24T09:19:56.396143Z"
    },
    "trusted": true
   },
   "outputs": [],
   "source": [
    "# Import TensorFlow, Keras, Scikit-learn libraries to be used\n",
    "\n",
    "import tensorflow as tf # Use tf v2.12.0\n",
    "import keras\n",
    "from keras import layers, models, callbacks, optimizers\n",
    "from keras.src.legacy.preprocessing.image import ImageDataGenerator\n",
    "from keras.preprocessing.image import img_to_array, load_img\n",
    "from keras.callbacks import EarlyStopping, ReduceLROnPlateau\n",
    "\n",
    "from keras.models import Sequential\n",
    "from keras.layers import Conv2D, MaxPooling2D\n",
    "from keras.layers import Activation, Dropout, Flatten, Dense\n",
    "from keras import backend as K\n",
    "\n",
    "from sklearn.preprocessing import LabelEncoder\n",
    "from sklearn.model_selection import train_test_split\n",
    "from sklearn.metrics import roc_auc_score\n",
    "\n",
    "tf.random.set_seed(104)"
   ]
  },
  {
   "cell_type": "code",
   "execution_count": 9,
   "metadata": {
    "execution": {
     "iopub.execute_input": "2025-06-24T09:19:56.411395Z",
     "iopub.status.busy": "2025-06-24T09:19:56.411234Z",
     "iopub.status.idle": "2025-06-24T09:19:56.430151Z",
     "shell.execute_reply": "2025-06-24T09:19:56.429591Z",
     "shell.execute_reply.started": "2025-06-24T09:19:56.411382Z"
    },
    "trusted": true
   },
   "outputs": [
    {
     "name": "stdout",
     "output_type": "stream",
     "text": [
      "2.17.0 3.4.1\n"
     ]
    }
   ],
   "source": [
    "# Get the TensorFlow Version - we are using v2.12.0\n",
    "print(tf.__version__, keras.__version__)"
   ]
  },
  {
   "cell_type": "code",
   "execution_count": 10,
   "metadata": {
    "execution": {
     "iopub.execute_input": "2025-06-24T09:19:56.431965Z",
     "iopub.status.busy": "2025-06-24T09:19:56.431772Z",
     "iopub.status.idle": "2025-06-24T09:19:56.447494Z",
     "shell.execute_reply": "2025-06-24T09:19:56.446970Z",
     "shell.execute_reply.started": "2025-06-24T09:19:56.431950Z"
    },
    "trusted": true
   },
   "outputs": [],
   "source": [
    "# Set up constants for model\n",
    "RANDOM_STATE = 50\n",
    "IMG_SIZE = 256\n",
    "DOG_BREEDS = len(labels['breed'].unique())\n",
    "LEARNING_RATE = 0.005\n",
    "BATCH_SIZE = 32\n",
    "\n",
    "# Epochs value may vary based on number of tests\n",
    "EPOCHS = 5"
   ]
  },
  {
   "cell_type": "code",
   "execution_count": 11,
   "metadata": {
    "execution": {
     "iopub.execute_input": "2025-06-24T09:19:56.448223Z",
     "iopub.status.busy": "2025-06-24T09:19:56.448033Z",
     "iopub.status.idle": "2025-06-24T09:19:56.462344Z",
     "shell.execute_reply": "2025-06-24T09:19:56.461616Z",
     "shell.execute_reply.started": "2025-06-24T09:19:56.448202Z"
    },
    "trusted": true
   },
   "outputs": [
    {
     "name": "stdout",
     "output_type": "stream",
     "text": [
      "Using CPU\n"
     ]
    }
   ],
   "source": [
    "# Check if GPU is available - only on Colab or Kaggle\n",
    "\n",
    "gpus = tf.config.list_physical_devices('GPU')\n",
    "\n",
    "if gpus:\n",
    "    print(\"GPU being used for training\")\n",
    "    for gpu in gpus:\n",
    "        print(f\"GPU Name: {gpu.name}\")\n",
    "else: # Use CPU\n",
    "    BATCH_SIZE=16\n",
    "    EPOCHS = 5\n",
    "    print(\"Using CPU\")\n"
   ]
  },
  {
   "cell_type": "code",
   "execution_count": 12,
   "metadata": {
    "execution": {
     "iopub.execute_input": "2025-06-24T09:19:56.463563Z",
     "iopub.status.busy": "2025-06-24T09:19:56.463045Z",
     "iopub.status.idle": "2025-06-24T09:19:56.483683Z",
     "shell.execute_reply": "2025-06-24T09:19:56.482945Z",
     "shell.execute_reply.started": "2025-06-24T09:19:56.463539Z"
    },
    "trusted": true
   },
   "outputs": [
    {
     "data": {
      "text/html": [
       "<div>\n",
       "<style scoped>\n",
       "    .dataframe tbody tr th:only-of-type {\n",
       "        vertical-align: middle;\n",
       "    }\n",
       "\n",
       "    .dataframe tbody tr th {\n",
       "        vertical-align: top;\n",
       "    }\n",
       "\n",
       "    .dataframe thead th {\n",
       "        text-align: right;\n",
       "    }\n",
       "</style>\n",
       "<table border=\"1\" class=\"dataframe\">\n",
       "  <thead>\n",
       "    <tr style=\"text-align: right;\">\n",
       "      <th></th>\n",
       "      <th>id</th>\n",
       "      <th>breed</th>\n",
       "      <th>path</th>\n",
       "      <th>breed_id</th>\n",
       "    </tr>\n",
       "  </thead>\n",
       "  <tbody>\n",
       "    <tr>\n",
       "      <th>0</th>\n",
       "      <td>000bec180eb18c7604dcecc8fe0dba07</td>\n",
       "      <td>boston_bull</td>\n",
       "      <td>dog-breed-identification/train/000bec180eb18c7...</td>\n",
       "      <td>19</td>\n",
       "    </tr>\n",
       "    <tr>\n",
       "      <th>1</th>\n",
       "      <td>001513dfcb2ffafc82cccf4d8bbaba97</td>\n",
       "      <td>dingo</td>\n",
       "      <td>dog-breed-identification/train/001513dfcb2ffaf...</td>\n",
       "      <td>37</td>\n",
       "    </tr>\n",
       "    <tr>\n",
       "      <th>2</th>\n",
       "      <td>001cdf01b096e06d78e9e5112d419397</td>\n",
       "      <td>pekinese</td>\n",
       "      <td>dog-breed-identification/train/001cdf01b096e06...</td>\n",
       "      <td>85</td>\n",
       "    </tr>\n",
       "    <tr>\n",
       "      <th>3</th>\n",
       "      <td>00214f311d5d2247d5dfe4fe24b2303d</td>\n",
       "      <td>bluetick</td>\n",
       "      <td>dog-breed-identification/train/00214f311d5d224...</td>\n",
       "      <td>15</td>\n",
       "    </tr>\n",
       "    <tr>\n",
       "      <th>4</th>\n",
       "      <td>0021f9ceb3235effd7fcde7f7538ed62</td>\n",
       "      <td>golden_retriever</td>\n",
       "      <td>dog-breed-identification/train/0021f9ceb3235ef...</td>\n",
       "      <td>49</td>\n",
       "    </tr>\n",
       "  </tbody>\n",
       "</table>\n",
       "</div>"
      ],
      "text/plain": [
       "                                 id             breed  \\\n",
       "0  000bec180eb18c7604dcecc8fe0dba07       boston_bull   \n",
       "1  001513dfcb2ffafc82cccf4d8bbaba97             dingo   \n",
       "2  001cdf01b096e06d78e9e5112d419397          pekinese   \n",
       "3  00214f311d5d2247d5dfe4fe24b2303d          bluetick   \n",
       "4  0021f9ceb3235effd7fcde7f7538ed62  golden_retriever   \n",
       "\n",
       "                                                path  breed_id  \n",
       "0  dog-breed-identification/train/000bec180eb18c7...        19  \n",
       "1  dog-breed-identification/train/001513dfcb2ffaf...        37  \n",
       "2  dog-breed-identification/train/001cdf01b096e06...        85  \n",
       "3  dog-breed-identification/train/00214f311d5d224...        15  \n",
       "4  dog-breed-identification/train/0021f9ceb3235ef...        49  "
      ]
     },
     "execution_count": 12,
     "metadata": {},
     "output_type": "execute_result"
    }
   ],
   "source": [
    "# Create a label encoding\n",
    "encoder = LabelEncoder()\n",
    "labels['breed_id']= encoder.fit_transform(labels['breed'])\n",
    "labels.head()\n"
   ]
  },
  {
   "cell_type": "code",
   "execution_count": 13,
   "metadata": {
    "execution": {
     "iopub.execute_input": "2025-06-24T09:19:56.484998Z",
     "iopub.status.busy": "2025-06-24T09:19:56.484487Z",
     "iopub.status.idle": "2025-06-24T09:21:34.429509Z",
     "shell.execute_reply": "2025-06-24T09:21:34.428819Z",
     "shell.execute_reply.started": "2025-06-24T09:19:56.484971Z"
    },
    "trusted": true
   },
   "outputs": [
    {
     "name": "stdout",
     "output_type": "stream",
     "text": [
      "(10222, 256, 256, 3) (10222, 120)\n"
     ]
    }
   ],
   "source": [
    "'''Set up variables x, y to load images from train_dir into array/matrix form (seen in last cell)\n",
    "Adjust size as appropriate and put everything in list form\n",
    "Create dataset y of dummy variables of dog breeds and then get shapes\n",
    "\n",
    "x - type numpy array\n",
    "y - type dataframe\n",
    "'''\n",
    "\n",
    "\n",
    "x= np.array([img_to_array(load_img(image, target_size=(IMG_SIZE, IMG_SIZE)))\n",
    "             for image in labels['path'].values.tolist()])\n",
    "y = pd.get_dummies(labels['breed'])\n",
    "print(x.shape, y.shape)"
   ]
  },
  {
   "cell_type": "code",
   "execution_count": 14,
   "metadata": {
    "execution": {
     "iopub.execute_input": "2025-06-24T09:23:17.555374Z",
     "iopub.status.busy": "2025-06-24T09:23:17.554801Z",
     "iopub.status.idle": "2025-06-24T09:23:19.237266Z",
     "shell.execute_reply": "2025-06-24T09:23:19.236567Z",
     "shell.execute_reply.started": "2025-06-24T09:23:17.555350Z"
    },
    "trusted": true
   },
   "outputs": [
    {
     "name": "stdout",
     "output_type": "stream",
     "text": [
      "(8177, 256, 256, 3) (8177, 120)\n",
      "(2045, 256, 256, 3) (2045, 120)\n"
     ]
    }
   ],
   "source": [
    "# Do the train-test split\n",
    "# Implement the training and validation sets for x, y so that train-test size is 80%-20%\n",
    " \n",
    "x_train, x_valid, y_train, y_valid = train_test_split(x, y, test_size=0.2)\n",
    "\n",
    "print(x_train.shape,y_train.shape)\n",
    "print(x_valid.shape,y_valid.shape)"
   ]
  },
  {
   "cell_type": "code",
   "execution_count": 15,
   "metadata": {
    "execution": {
     "iopub.execute_input": "2025-06-24T09:23:28.844919Z",
     "iopub.status.busy": "2025-06-24T09:23:28.844242Z",
     "iopub.status.idle": "2025-06-24T09:23:28.849026Z",
     "shell.execute_reply": "2025-06-24T09:23:28.848235Z",
     "shell.execute_reply.started": "2025-06-24T09:23:28.844894Z"
    },
    "trusted": true
   },
   "outputs": [
    {
     "name": "stdout",
     "output_type": "stream",
     "text": [
      "<class 'numpy.ndarray'> <class 'numpy.ndarray'> <class 'pandas.core.frame.DataFrame'> <class 'pandas.core.frame.DataFrame'>\n",
      "float32 float32\n"
     ]
    }
   ],
   "source": [
    "print(type(x_train), type(x_valid), type(y_train), type(y_valid))\n",
    "print(x_train.dtype, x_valid.dtype)"
   ]
  },
  {
   "cell_type": "code",
   "execution_count": null,
   "metadata": {
    "trusted": true
   },
   "outputs": [],
   "source": []
  },
  {
   "cell_type": "markdown",
   "metadata": {},
   "source": [
    "<a id='Different'></a>\n",
    "## <h1>Trying a Different Model</h1>\n",
    "\n",
    "Try another model to see if we can get better predictions.<br>\n",
    "Originally, we used a basic Sequential model to calculate probabilities on what dog breed it thinks an image is.<br>\n",
    "Use VGG16 deep CNN for image classification, where there are 16 layers of artificial neurons.<br>\n",
    "\n",
    "First, perform some image augmentation using ImageDataGenerator on the train data.<br>\n",
    "Also, set up a data generator for validation data.<br>\n",
    "\n",
    "We will use VGG16 as the architecture to try and get better predictions."
   ]
  },
  {
   "cell_type": "code",
   "execution_count": 16,
   "metadata": {
    "execution": {
     "iopub.execute_input": "2025-06-24T09:21:34.430481Z",
     "iopub.status.busy": "2025-06-24T09:21:34.430202Z",
     "iopub.status.idle": "2025-06-24T09:21:34.434408Z",
     "shell.execute_reply": "2025-06-24T09:21:34.433633Z",
     "shell.execute_reply.started": "2025-06-24T09:21:34.430461Z"
    },
    "trusted": true
   },
   "outputs": [],
   "source": [
    "# Set up the ImageDataGenerators for the training and validation data\n",
    "\n",
    "train_data_gen = ImageDataGenerator(\n",
    "    rescale=1./255., rotation_range=40,\n",
    "    width_shift_range=0.2, height_shift_range=0.2, shear_range=0.2,\n",
    "    zoom_range=0.2, horizontal_flip=True\n",
    ")\n",
    "\n",
    "valid__data_gen = ImageDataGenerator(rescale=1./ 255.)"
   ]
  },
  {
   "cell_type": "code",
   "execution_count": 17,
   "metadata": {},
   "outputs": [
    {
     "data": {
      "text/plain": [
       "\"\\nThis simply will not work for numpy arrays. The training and validation sets x_train, x_valid\\nare numpy arrays type float which are four dimensions.\\n\\nAs much as I want to do more preprocessing and flow the training and validation images, it simply is\\nnot possible to do so with this type of data since I am seeking to create probability predictions\\nwith my model's implementation.\\n\""
      ]
     },
     "execution_count": 17,
     "metadata": {},
     "output_type": "execute_result"
    }
   ],
   "source": [
    "'''\n",
    "This simply will not work for numpy arrays. The training and validation sets x_train, x_valid\n",
    "are numpy arrays type float which are four dimensions.\n",
    "\n",
    "As much as I want to do more preprocessing and flow the training and validation images, it simply is\n",
    "not possible to do so with this type of data since I am seeking to create probability predictions\n",
    "with my model's implementation.\n",
    "'''\n",
    "\n",
    "# # Flow training images in batches of 20 using train_datagen generator\n",
    "# train_generator = train_data_gen.flow_from_dataframe(\n",
    "#     x_train,\n",
    "#     batch_size=20,\n",
    "#     class_mode='categorical',\n",
    "#     target_size=(224, 224)\n",
    "# )\n",
    "\n",
    "# # Flow validation images in batches of 20 using test_datagen generator\n",
    "# validation_generator = test_data_gen.flow_from_dataframe(\n",
    "#     x_valid,\n",
    "#     batch_size=20,\n",
    "#     class_mode='categorical',\n",
    "#     target_size=(224, 224)\n",
    "# )"
   ]
  },
  {
   "cell_type": "markdown",
   "metadata": {},
   "source": [
    "No flowing was done because it caused my notebook kernel to crash. Only ImageDataGenerators were created \n",
    "Thus, this was a major drawback as to why some of the percentages are down is because none of the training images flowed properly because of how complex x_train and x_valid are as numpy arrays each in four dimensions."
   ]
  },
  {
   "cell_type": "code",
   "execution_count": 18,
   "metadata": {
    "trusted": true
   },
   "outputs": [],
   "source": [
    "from keras import layers\n",
    "from keras import models\n",
    "\n",
    "from keras.applications import (ResNet50, ResNet101, \n",
    "                                InceptionResNetV2, InceptionV3,\n",
    "                                EfficientNetB0, \n",
    "                                VGG16, VGG19)\n",
    "\n",
    "img_shape = (IMG_SIZE, IMG_SIZE, 3)\n",
    "base_model = VGG16(input_shape=img_shape, include_top=False, weights='imagenet')\n",
    "\n",
    "for layer in base_model.layers: # Not needed to train all 16 layers\n",
    "    layer.trainable = False\n"
   ]
  },
  {
   "cell_type": "code",
   "execution_count": 19,
   "metadata": {
    "trusted": true
   },
   "outputs": [
    {
     "data": {
      "text/html": [
       "<pre style=\"white-space:pre;overflow-x:auto;line-height:normal;font-family:Menlo,'DejaVu Sans Mono',consolas,'Courier New',monospace\"><span style=\"font-weight: bold\">Model: \"vgg16\"</span>\n",
       "</pre>\n"
      ],
      "text/plain": [
       "\u001b[1mModel: \"vgg16\"\u001b[0m\n"
      ]
     },
     "metadata": {},
     "output_type": "display_data"
    },
    {
     "data": {
      "text/html": [
       "<pre style=\"white-space:pre;overflow-x:auto;line-height:normal;font-family:Menlo,'DejaVu Sans Mono',consolas,'Courier New',monospace\">┏━━━━━━━━━━━━━━━━━━━━━━━━━━━━━━━━━┳━━━━━━━━━━━━━━━━━━━━━━━━┳━━━━━━━━━━━━━━━┓\n",
       "┃<span style=\"font-weight: bold\"> Layer (type)                    </span>┃<span style=\"font-weight: bold\"> Output Shape           </span>┃<span style=\"font-weight: bold\">       Param # </span>┃\n",
       "┡━━━━━━━━━━━━━━━━━━━━━━━━━━━━━━━━━╇━━━━━━━━━━━━━━━━━━━━━━━━╇━━━━━━━━━━━━━━━┩\n",
       "│ input_layer (<span style=\"color: #0087ff; text-decoration-color: #0087ff\">InputLayer</span>)        │ (<span style=\"color: #00d7ff; text-decoration-color: #00d7ff\">None</span>, <span style=\"color: #00af00; text-decoration-color: #00af00\">256</span>, <span style=\"color: #00af00; text-decoration-color: #00af00\">256</span>, <span style=\"color: #00af00; text-decoration-color: #00af00\">3</span>)    │             <span style=\"color: #00af00; text-decoration-color: #00af00\">0</span> │\n",
       "├─────────────────────────────────┼────────────────────────┼───────────────┤\n",
       "│ block1_conv1 (<span style=\"color: #0087ff; text-decoration-color: #0087ff\">Conv2D</span>)           │ (<span style=\"color: #00d7ff; text-decoration-color: #00d7ff\">None</span>, <span style=\"color: #00af00; text-decoration-color: #00af00\">256</span>, <span style=\"color: #00af00; text-decoration-color: #00af00\">256</span>, <span style=\"color: #00af00; text-decoration-color: #00af00\">64</span>)   │         <span style=\"color: #00af00; text-decoration-color: #00af00\">1,792</span> │\n",
       "├─────────────────────────────────┼────────────────────────┼───────────────┤\n",
       "│ block1_conv2 (<span style=\"color: #0087ff; text-decoration-color: #0087ff\">Conv2D</span>)           │ (<span style=\"color: #00d7ff; text-decoration-color: #00d7ff\">None</span>, <span style=\"color: #00af00; text-decoration-color: #00af00\">256</span>, <span style=\"color: #00af00; text-decoration-color: #00af00\">256</span>, <span style=\"color: #00af00; text-decoration-color: #00af00\">64</span>)   │        <span style=\"color: #00af00; text-decoration-color: #00af00\">36,928</span> │\n",
       "├─────────────────────────────────┼────────────────────────┼───────────────┤\n",
       "│ block1_pool (<span style=\"color: #0087ff; text-decoration-color: #0087ff\">MaxPooling2D</span>)      │ (<span style=\"color: #00d7ff; text-decoration-color: #00d7ff\">None</span>, <span style=\"color: #00af00; text-decoration-color: #00af00\">128</span>, <span style=\"color: #00af00; text-decoration-color: #00af00\">128</span>, <span style=\"color: #00af00; text-decoration-color: #00af00\">64</span>)   │             <span style=\"color: #00af00; text-decoration-color: #00af00\">0</span> │\n",
       "├─────────────────────────────────┼────────────────────────┼───────────────┤\n",
       "│ block2_conv1 (<span style=\"color: #0087ff; text-decoration-color: #0087ff\">Conv2D</span>)           │ (<span style=\"color: #00d7ff; text-decoration-color: #00d7ff\">None</span>, <span style=\"color: #00af00; text-decoration-color: #00af00\">128</span>, <span style=\"color: #00af00; text-decoration-color: #00af00\">128</span>, <span style=\"color: #00af00; text-decoration-color: #00af00\">128</span>)  │        <span style=\"color: #00af00; text-decoration-color: #00af00\">73,856</span> │\n",
       "├─────────────────────────────────┼────────────────────────┼───────────────┤\n",
       "│ block2_conv2 (<span style=\"color: #0087ff; text-decoration-color: #0087ff\">Conv2D</span>)           │ (<span style=\"color: #00d7ff; text-decoration-color: #00d7ff\">None</span>, <span style=\"color: #00af00; text-decoration-color: #00af00\">128</span>, <span style=\"color: #00af00; text-decoration-color: #00af00\">128</span>, <span style=\"color: #00af00; text-decoration-color: #00af00\">128</span>)  │       <span style=\"color: #00af00; text-decoration-color: #00af00\">147,584</span> │\n",
       "├─────────────────────────────────┼────────────────────────┼───────────────┤\n",
       "│ block2_pool (<span style=\"color: #0087ff; text-decoration-color: #0087ff\">MaxPooling2D</span>)      │ (<span style=\"color: #00d7ff; text-decoration-color: #00d7ff\">None</span>, <span style=\"color: #00af00; text-decoration-color: #00af00\">64</span>, <span style=\"color: #00af00; text-decoration-color: #00af00\">64</span>, <span style=\"color: #00af00; text-decoration-color: #00af00\">128</span>)    │             <span style=\"color: #00af00; text-decoration-color: #00af00\">0</span> │\n",
       "├─────────────────────────────────┼────────────────────────┼───────────────┤\n",
       "│ block3_conv1 (<span style=\"color: #0087ff; text-decoration-color: #0087ff\">Conv2D</span>)           │ (<span style=\"color: #00d7ff; text-decoration-color: #00d7ff\">None</span>, <span style=\"color: #00af00; text-decoration-color: #00af00\">64</span>, <span style=\"color: #00af00; text-decoration-color: #00af00\">64</span>, <span style=\"color: #00af00; text-decoration-color: #00af00\">256</span>)    │       <span style=\"color: #00af00; text-decoration-color: #00af00\">295,168</span> │\n",
       "├─────────────────────────────────┼────────────────────────┼───────────────┤\n",
       "│ block3_conv2 (<span style=\"color: #0087ff; text-decoration-color: #0087ff\">Conv2D</span>)           │ (<span style=\"color: #00d7ff; text-decoration-color: #00d7ff\">None</span>, <span style=\"color: #00af00; text-decoration-color: #00af00\">64</span>, <span style=\"color: #00af00; text-decoration-color: #00af00\">64</span>, <span style=\"color: #00af00; text-decoration-color: #00af00\">256</span>)    │       <span style=\"color: #00af00; text-decoration-color: #00af00\">590,080</span> │\n",
       "├─────────────────────────────────┼────────────────────────┼───────────────┤\n",
       "│ block3_conv3 (<span style=\"color: #0087ff; text-decoration-color: #0087ff\">Conv2D</span>)           │ (<span style=\"color: #00d7ff; text-decoration-color: #00d7ff\">None</span>, <span style=\"color: #00af00; text-decoration-color: #00af00\">64</span>, <span style=\"color: #00af00; text-decoration-color: #00af00\">64</span>, <span style=\"color: #00af00; text-decoration-color: #00af00\">256</span>)    │       <span style=\"color: #00af00; text-decoration-color: #00af00\">590,080</span> │\n",
       "├─────────────────────────────────┼────────────────────────┼───────────────┤\n",
       "│ block3_pool (<span style=\"color: #0087ff; text-decoration-color: #0087ff\">MaxPooling2D</span>)      │ (<span style=\"color: #00d7ff; text-decoration-color: #00d7ff\">None</span>, <span style=\"color: #00af00; text-decoration-color: #00af00\">32</span>, <span style=\"color: #00af00; text-decoration-color: #00af00\">32</span>, <span style=\"color: #00af00; text-decoration-color: #00af00\">256</span>)    │             <span style=\"color: #00af00; text-decoration-color: #00af00\">0</span> │\n",
       "├─────────────────────────────────┼────────────────────────┼───────────────┤\n",
       "│ block4_conv1 (<span style=\"color: #0087ff; text-decoration-color: #0087ff\">Conv2D</span>)           │ (<span style=\"color: #00d7ff; text-decoration-color: #00d7ff\">None</span>, <span style=\"color: #00af00; text-decoration-color: #00af00\">32</span>, <span style=\"color: #00af00; text-decoration-color: #00af00\">32</span>, <span style=\"color: #00af00; text-decoration-color: #00af00\">512</span>)    │     <span style=\"color: #00af00; text-decoration-color: #00af00\">1,180,160</span> │\n",
       "├─────────────────────────────────┼────────────────────────┼───────────────┤\n",
       "│ block4_conv2 (<span style=\"color: #0087ff; text-decoration-color: #0087ff\">Conv2D</span>)           │ (<span style=\"color: #00d7ff; text-decoration-color: #00d7ff\">None</span>, <span style=\"color: #00af00; text-decoration-color: #00af00\">32</span>, <span style=\"color: #00af00; text-decoration-color: #00af00\">32</span>, <span style=\"color: #00af00; text-decoration-color: #00af00\">512</span>)    │     <span style=\"color: #00af00; text-decoration-color: #00af00\">2,359,808</span> │\n",
       "├─────────────────────────────────┼────────────────────────┼───────────────┤\n",
       "│ block4_conv3 (<span style=\"color: #0087ff; text-decoration-color: #0087ff\">Conv2D</span>)           │ (<span style=\"color: #00d7ff; text-decoration-color: #00d7ff\">None</span>, <span style=\"color: #00af00; text-decoration-color: #00af00\">32</span>, <span style=\"color: #00af00; text-decoration-color: #00af00\">32</span>, <span style=\"color: #00af00; text-decoration-color: #00af00\">512</span>)    │     <span style=\"color: #00af00; text-decoration-color: #00af00\">2,359,808</span> │\n",
       "├─────────────────────────────────┼────────────────────────┼───────────────┤\n",
       "│ block4_pool (<span style=\"color: #0087ff; text-decoration-color: #0087ff\">MaxPooling2D</span>)      │ (<span style=\"color: #00d7ff; text-decoration-color: #00d7ff\">None</span>, <span style=\"color: #00af00; text-decoration-color: #00af00\">16</span>, <span style=\"color: #00af00; text-decoration-color: #00af00\">16</span>, <span style=\"color: #00af00; text-decoration-color: #00af00\">512</span>)    │             <span style=\"color: #00af00; text-decoration-color: #00af00\">0</span> │\n",
       "├─────────────────────────────────┼────────────────────────┼───────────────┤\n",
       "│ block5_conv1 (<span style=\"color: #0087ff; text-decoration-color: #0087ff\">Conv2D</span>)           │ (<span style=\"color: #00d7ff; text-decoration-color: #00d7ff\">None</span>, <span style=\"color: #00af00; text-decoration-color: #00af00\">16</span>, <span style=\"color: #00af00; text-decoration-color: #00af00\">16</span>, <span style=\"color: #00af00; text-decoration-color: #00af00\">512</span>)    │     <span style=\"color: #00af00; text-decoration-color: #00af00\">2,359,808</span> │\n",
       "├─────────────────────────────────┼────────────────────────┼───────────────┤\n",
       "│ block5_conv2 (<span style=\"color: #0087ff; text-decoration-color: #0087ff\">Conv2D</span>)           │ (<span style=\"color: #00d7ff; text-decoration-color: #00d7ff\">None</span>, <span style=\"color: #00af00; text-decoration-color: #00af00\">16</span>, <span style=\"color: #00af00; text-decoration-color: #00af00\">16</span>, <span style=\"color: #00af00; text-decoration-color: #00af00\">512</span>)    │     <span style=\"color: #00af00; text-decoration-color: #00af00\">2,359,808</span> │\n",
       "├─────────────────────────────────┼────────────────────────┼───────────────┤\n",
       "│ block5_conv3 (<span style=\"color: #0087ff; text-decoration-color: #0087ff\">Conv2D</span>)           │ (<span style=\"color: #00d7ff; text-decoration-color: #00d7ff\">None</span>, <span style=\"color: #00af00; text-decoration-color: #00af00\">16</span>, <span style=\"color: #00af00; text-decoration-color: #00af00\">16</span>, <span style=\"color: #00af00; text-decoration-color: #00af00\">512</span>)    │     <span style=\"color: #00af00; text-decoration-color: #00af00\">2,359,808</span> │\n",
       "├─────────────────────────────────┼────────────────────────┼───────────────┤\n",
       "│ block5_pool (<span style=\"color: #0087ff; text-decoration-color: #0087ff\">MaxPooling2D</span>)      │ (<span style=\"color: #00d7ff; text-decoration-color: #00d7ff\">None</span>, <span style=\"color: #00af00; text-decoration-color: #00af00\">8</span>, <span style=\"color: #00af00; text-decoration-color: #00af00\">8</span>, <span style=\"color: #00af00; text-decoration-color: #00af00\">512</span>)      │             <span style=\"color: #00af00; text-decoration-color: #00af00\">0</span> │\n",
       "└─────────────────────────────────┴────────────────────────┴───────────────┘\n",
       "</pre>\n"
      ],
      "text/plain": [
       "┏━━━━━━━━━━━━━━━━━━━━━━━━━━━━━━━━━┳━━━━━━━━━━━━━━━━━━━━━━━━┳━━━━━━━━━━━━━━━┓\n",
       "┃\u001b[1m \u001b[0m\u001b[1mLayer (type)                   \u001b[0m\u001b[1m \u001b[0m┃\u001b[1m \u001b[0m\u001b[1mOutput Shape          \u001b[0m\u001b[1m \u001b[0m┃\u001b[1m \u001b[0m\u001b[1m      Param #\u001b[0m\u001b[1m \u001b[0m┃\n",
       "┡━━━━━━━━━━━━━━━━━━━━━━━━━━━━━━━━━╇━━━━━━━━━━━━━━━━━━━━━━━━╇━━━━━━━━━━━━━━━┩\n",
       "│ input_layer (\u001b[38;5;33mInputLayer\u001b[0m)        │ (\u001b[38;5;45mNone\u001b[0m, \u001b[38;5;34m256\u001b[0m, \u001b[38;5;34m256\u001b[0m, \u001b[38;5;34m3\u001b[0m)    │             \u001b[38;5;34m0\u001b[0m │\n",
       "├─────────────────────────────────┼────────────────────────┼───────────────┤\n",
       "│ block1_conv1 (\u001b[38;5;33mConv2D\u001b[0m)           │ (\u001b[38;5;45mNone\u001b[0m, \u001b[38;5;34m256\u001b[0m, \u001b[38;5;34m256\u001b[0m, \u001b[38;5;34m64\u001b[0m)   │         \u001b[38;5;34m1,792\u001b[0m │\n",
       "├─────────────────────────────────┼────────────────────────┼───────────────┤\n",
       "│ block1_conv2 (\u001b[38;5;33mConv2D\u001b[0m)           │ (\u001b[38;5;45mNone\u001b[0m, \u001b[38;5;34m256\u001b[0m, \u001b[38;5;34m256\u001b[0m, \u001b[38;5;34m64\u001b[0m)   │        \u001b[38;5;34m36,928\u001b[0m │\n",
       "├─────────────────────────────────┼────────────────────────┼───────────────┤\n",
       "│ block1_pool (\u001b[38;5;33mMaxPooling2D\u001b[0m)      │ (\u001b[38;5;45mNone\u001b[0m, \u001b[38;5;34m128\u001b[0m, \u001b[38;5;34m128\u001b[0m, \u001b[38;5;34m64\u001b[0m)   │             \u001b[38;5;34m0\u001b[0m │\n",
       "├─────────────────────────────────┼────────────────────────┼───────────────┤\n",
       "│ block2_conv1 (\u001b[38;5;33mConv2D\u001b[0m)           │ (\u001b[38;5;45mNone\u001b[0m, \u001b[38;5;34m128\u001b[0m, \u001b[38;5;34m128\u001b[0m, \u001b[38;5;34m128\u001b[0m)  │        \u001b[38;5;34m73,856\u001b[0m │\n",
       "├─────────────────────────────────┼────────────────────────┼───────────────┤\n",
       "│ block2_conv2 (\u001b[38;5;33mConv2D\u001b[0m)           │ (\u001b[38;5;45mNone\u001b[0m, \u001b[38;5;34m128\u001b[0m, \u001b[38;5;34m128\u001b[0m, \u001b[38;5;34m128\u001b[0m)  │       \u001b[38;5;34m147,584\u001b[0m │\n",
       "├─────────────────────────────────┼────────────────────────┼───────────────┤\n",
       "│ block2_pool (\u001b[38;5;33mMaxPooling2D\u001b[0m)      │ (\u001b[38;5;45mNone\u001b[0m, \u001b[38;5;34m64\u001b[0m, \u001b[38;5;34m64\u001b[0m, \u001b[38;5;34m128\u001b[0m)    │             \u001b[38;5;34m0\u001b[0m │\n",
       "├─────────────────────────────────┼────────────────────────┼───────────────┤\n",
       "│ block3_conv1 (\u001b[38;5;33mConv2D\u001b[0m)           │ (\u001b[38;5;45mNone\u001b[0m, \u001b[38;5;34m64\u001b[0m, \u001b[38;5;34m64\u001b[0m, \u001b[38;5;34m256\u001b[0m)    │       \u001b[38;5;34m295,168\u001b[0m │\n",
       "├─────────────────────────────────┼────────────────────────┼───────────────┤\n",
       "│ block3_conv2 (\u001b[38;5;33mConv2D\u001b[0m)           │ (\u001b[38;5;45mNone\u001b[0m, \u001b[38;5;34m64\u001b[0m, \u001b[38;5;34m64\u001b[0m, \u001b[38;5;34m256\u001b[0m)    │       \u001b[38;5;34m590,080\u001b[0m │\n",
       "├─────────────────────────────────┼────────────────────────┼───────────────┤\n",
       "│ block3_conv3 (\u001b[38;5;33mConv2D\u001b[0m)           │ (\u001b[38;5;45mNone\u001b[0m, \u001b[38;5;34m64\u001b[0m, \u001b[38;5;34m64\u001b[0m, \u001b[38;5;34m256\u001b[0m)    │       \u001b[38;5;34m590,080\u001b[0m │\n",
       "├─────────────────────────────────┼────────────────────────┼───────────────┤\n",
       "│ block3_pool (\u001b[38;5;33mMaxPooling2D\u001b[0m)      │ (\u001b[38;5;45mNone\u001b[0m, \u001b[38;5;34m32\u001b[0m, \u001b[38;5;34m32\u001b[0m, \u001b[38;5;34m256\u001b[0m)    │             \u001b[38;5;34m0\u001b[0m │\n",
       "├─────────────────────────────────┼────────────────────────┼───────────────┤\n",
       "│ block4_conv1 (\u001b[38;5;33mConv2D\u001b[0m)           │ (\u001b[38;5;45mNone\u001b[0m, \u001b[38;5;34m32\u001b[0m, \u001b[38;5;34m32\u001b[0m, \u001b[38;5;34m512\u001b[0m)    │     \u001b[38;5;34m1,180,160\u001b[0m │\n",
       "├─────────────────────────────────┼────────────────────────┼───────────────┤\n",
       "│ block4_conv2 (\u001b[38;5;33mConv2D\u001b[0m)           │ (\u001b[38;5;45mNone\u001b[0m, \u001b[38;5;34m32\u001b[0m, \u001b[38;5;34m32\u001b[0m, \u001b[38;5;34m512\u001b[0m)    │     \u001b[38;5;34m2,359,808\u001b[0m │\n",
       "├─────────────────────────────────┼────────────────────────┼───────────────┤\n",
       "│ block4_conv3 (\u001b[38;5;33mConv2D\u001b[0m)           │ (\u001b[38;5;45mNone\u001b[0m, \u001b[38;5;34m32\u001b[0m, \u001b[38;5;34m32\u001b[0m, \u001b[38;5;34m512\u001b[0m)    │     \u001b[38;5;34m2,359,808\u001b[0m │\n",
       "├─────────────────────────────────┼────────────────────────┼───────────────┤\n",
       "│ block4_pool (\u001b[38;5;33mMaxPooling2D\u001b[0m)      │ (\u001b[38;5;45mNone\u001b[0m, \u001b[38;5;34m16\u001b[0m, \u001b[38;5;34m16\u001b[0m, \u001b[38;5;34m512\u001b[0m)    │             \u001b[38;5;34m0\u001b[0m │\n",
       "├─────────────────────────────────┼────────────────────────┼───────────────┤\n",
       "│ block5_conv1 (\u001b[38;5;33mConv2D\u001b[0m)           │ (\u001b[38;5;45mNone\u001b[0m, \u001b[38;5;34m16\u001b[0m, \u001b[38;5;34m16\u001b[0m, \u001b[38;5;34m512\u001b[0m)    │     \u001b[38;5;34m2,359,808\u001b[0m │\n",
       "├─────────────────────────────────┼────────────────────────┼───────────────┤\n",
       "│ block5_conv2 (\u001b[38;5;33mConv2D\u001b[0m)           │ (\u001b[38;5;45mNone\u001b[0m, \u001b[38;5;34m16\u001b[0m, \u001b[38;5;34m16\u001b[0m, \u001b[38;5;34m512\u001b[0m)    │     \u001b[38;5;34m2,359,808\u001b[0m │\n",
       "├─────────────────────────────────┼────────────────────────┼───────────────┤\n",
       "│ block5_conv3 (\u001b[38;5;33mConv2D\u001b[0m)           │ (\u001b[38;5;45mNone\u001b[0m, \u001b[38;5;34m16\u001b[0m, \u001b[38;5;34m16\u001b[0m, \u001b[38;5;34m512\u001b[0m)    │     \u001b[38;5;34m2,359,808\u001b[0m │\n",
       "├─────────────────────────────────┼────────────────────────┼───────────────┤\n",
       "│ block5_pool (\u001b[38;5;33mMaxPooling2D\u001b[0m)      │ (\u001b[38;5;45mNone\u001b[0m, \u001b[38;5;34m8\u001b[0m, \u001b[38;5;34m8\u001b[0m, \u001b[38;5;34m512\u001b[0m)      │             \u001b[38;5;34m0\u001b[0m │\n",
       "└─────────────────────────────────┴────────────────────────┴───────────────┘\n"
      ]
     },
     "metadata": {},
     "output_type": "display_data"
    },
    {
     "data": {
      "text/html": [
       "<pre style=\"white-space:pre;overflow-x:auto;line-height:normal;font-family:Menlo,'DejaVu Sans Mono',consolas,'Courier New',monospace\"><span style=\"font-weight: bold\"> Total params: </span><span style=\"color: #00af00; text-decoration-color: #00af00\">14,714,688</span> (56.13 MB)\n",
       "</pre>\n"
      ],
      "text/plain": [
       "\u001b[1m Total params: \u001b[0m\u001b[38;5;34m14,714,688\u001b[0m (56.13 MB)\n"
      ]
     },
     "metadata": {},
     "output_type": "display_data"
    },
    {
     "data": {
      "text/html": [
       "<pre style=\"white-space:pre;overflow-x:auto;line-height:normal;font-family:Menlo,'DejaVu Sans Mono',consolas,'Courier New',monospace\"><span style=\"font-weight: bold\"> Trainable params: </span><span style=\"color: #00af00; text-decoration-color: #00af00\">0</span> (0.00 B)\n",
       "</pre>\n"
      ],
      "text/plain": [
       "\u001b[1m Trainable params: \u001b[0m\u001b[38;5;34m0\u001b[0m (0.00 B)\n"
      ]
     },
     "metadata": {},
     "output_type": "display_data"
    },
    {
     "data": {
      "text/html": [
       "<pre style=\"white-space:pre;overflow-x:auto;line-height:normal;font-family:Menlo,'DejaVu Sans Mono',consolas,'Courier New',monospace\"><span style=\"font-weight: bold\"> Non-trainable params: </span><span style=\"color: #00af00; text-decoration-color: #00af00\">14,714,688</span> (56.13 MB)\n",
       "</pre>\n"
      ],
      "text/plain": [
       "\u001b[1m Non-trainable params: \u001b[0m\u001b[38;5;34m14,714,688\u001b[0m (56.13 MB)\n"
      ]
     },
     "metadata": {},
     "output_type": "display_data"
    }
   ],
   "source": [
    "base_model.summary()"
   ]
  },
  {
   "cell_type": "code",
   "execution_count": 20,
   "metadata": {
    "trusted": true
   },
   "outputs": [],
   "source": [
    "last_layer = base_model.get_layer('block5_pool')"
   ]
  },
  {
   "cell_type": "code",
   "execution_count": 21,
   "metadata": {},
   "outputs": [
    {
     "data": {
      "text/plain": [
       "'keras_tensor_18'"
      ]
     },
     "execution_count": 21,
     "metadata": {},
     "output_type": "execute_result"
    }
   ],
   "source": [
    "last_layer_output = last_layer.output\n",
    "last_layer_output.name"
   ]
  },
  {
   "cell_type": "code",
   "execution_count": 22,
   "metadata": {},
   "outputs": [
    {
     "data": {
      "text/plain": [
       "(None, 8, 8, 512)"
      ]
     },
     "execution_count": 22,
     "metadata": {},
     "output_type": "execute_result"
    }
   ],
   "source": [
    "last_layer_output.shape"
   ]
  },
  {
   "cell_type": "code",
   "execution_count": 23,
   "metadata": {},
   "outputs": [],
   "source": [
    "from keras import optimizers\n",
    "from keras import layers\n",
    "# Set up layers for the model, then initialize using base to compile the model\n",
    "\n",
    "# Get layers to be one single dimension\n",
    "x = layers.Flatten()(last_layer_output)\n",
    "\n",
    "# Add a layer with 256 units and ReLU, which would make this layer fully connected\n",
    "x = layers.Dense(256, activation='relu')(x)\n",
    "\n",
    "# Normalize the batch\n",
    "x = layers.BatchNormalization()(x)\n",
    "\n",
    "# Add another layer with 256 units and ReLU, which would make this layer fully connected\n",
    "x = layers.Dense(256, activation='relu')(x)\n",
    "\n",
    "# Make a sigmoid layer with sigmoid\n",
    "x = layers.Dense(1, activation='sigmoid')(x)\n",
    "\n",
    "# Set dropout rate to 0.6\n",
    "x = layers.Dropout(0.6)(x)\n",
    "\n",
    "# Normalize the batch again\n",
    "x = layers.BatchNormalization()(x)\n",
    "\n",
    "# Initialize the output variable using dense softmax layer\n",
    "output = layers.Dense(120, activation='softmax')(x)\n",
    "\n",
    "model = models.Model(base_model.input, output)\n",
    "# model.compile(optimizer=optimizers.RMSprop(learning_rate=0.0005), \n",
    "#               loss='binary_crossentropy', metrics=['acc'])\n",
    "\n",
    "model.compile(\n",
    "\toptimizer='adam',\n",
    "\tloss='categorical_crossentropy',\n",
    "\tmetrics=['accuracy']\n",
    ")\n",
    "\n"
   ]
  },
  {
   "cell_type": "code",
   "execution_count": 24,
   "metadata": {},
   "outputs": [
    {
     "name": "stdout",
     "output_type": "stream",
     "text": [
      "Epoch 1/10\n",
      "\u001b[1m256/256\u001b[0m \u001b[32m━━━━━━━━━━━━━━━━━━━━\u001b[0m\u001b[37m\u001b[0m \u001b[1m698s\u001b[0m 3s/step - accuracy: 0.0122 - loss: 4.7883 - val_accuracy: 0.0176 - val_loss: 4.7723\n",
      "Epoch 2/10\n",
      "\u001b[1m256/256\u001b[0m \u001b[32m━━━━━━━━━━━━━━━━━━━━\u001b[0m\u001b[37m\u001b[0m \u001b[1m686s\u001b[0m 3s/step - accuracy: 0.0141 - loss: 4.7681 - val_accuracy: 0.0186 - val_loss: 4.7592\n",
      "Epoch 3/10\n",
      "\u001b[1m256/256\u001b[0m \u001b[32m━━━━━━━━━━━━━━━━━━━━\u001b[0m\u001b[37m\u001b[0m \u001b[1m672s\u001b[0m 3s/step - accuracy: 0.0144 - loss: 4.7494 - val_accuracy: 0.0215 - val_loss: 4.7334\n",
      "Epoch 4/10\n",
      "\u001b[1m256/256\u001b[0m \u001b[32m━━━━━━━━━━━━━━━━━━━━\u001b[0m\u001b[37m\u001b[0m \u001b[1m645s\u001b[0m 3s/step - accuracy: 0.0174 - loss: 4.7280 - val_accuracy: 0.0205 - val_loss: 4.7020\n",
      "Epoch 5/10\n",
      "\u001b[1m256/256\u001b[0m \u001b[32m━━━━━━━━━━━━━━━━━━━━\u001b[0m\u001b[37m\u001b[0m \u001b[1m642s\u001b[0m 3s/step - accuracy: 0.0152 - loss: 4.7059 - val_accuracy: 0.0225 - val_loss: 4.6695\n",
      "Epoch 6/10\n",
      "\u001b[1m256/256\u001b[0m \u001b[32m━━━━━━━━━━━━━━━━━━━━\u001b[0m\u001b[37m\u001b[0m \u001b[1m647s\u001b[0m 3s/step - accuracy: 0.0146 - loss: 4.6950 - val_accuracy: 0.0181 - val_loss: 4.6542\n",
      "Epoch 7/10\n",
      "\u001b[1m256/256\u001b[0m \u001b[32m━━━━━━━━━━━━━━━━━━━━\u001b[0m\u001b[37m\u001b[0m \u001b[1m637s\u001b[0m 2s/step - accuracy: 0.0160 - loss: 4.6805 - val_accuracy: 0.0181 - val_loss: 4.6197\n",
      "Epoch 8/10\n",
      "\u001b[1m256/256\u001b[0m \u001b[32m━━━━━━━━━━━━━━━━━━━━\u001b[0m\u001b[37m\u001b[0m \u001b[1m655s\u001b[0m 3s/step - accuracy: 0.0156 - loss: 4.6728 - val_accuracy: 0.0186 - val_loss: 4.6161\n",
      "Epoch 9/10\n",
      "\u001b[1m256/256\u001b[0m \u001b[32m━━━━━━━━━━━━━━━━━━━━\u001b[0m\u001b[37m\u001b[0m \u001b[1m667s\u001b[0m 3s/step - accuracy: 0.0171 - loss: 4.6672 - val_accuracy: 0.0196 - val_loss: 4.5971\n",
      "Epoch 10/10\n",
      "\u001b[1m256/256\u001b[0m \u001b[32m━━━━━━━━━━━━━━━━━━━━\u001b[0m\u001b[37m\u001b[0m \u001b[1m674s\u001b[0m 3s/step - accuracy: 0.0180 - loss: 4.6527 - val_accuracy: 0.0181 - val_loss: 4.5781\n"
     ]
    }
   ],
   "source": [
    "history = model.fit(x_train, y_train, validation_data=(x_valid, y_valid),\n",
    "                    epochs=10, verbose=1,\n",
    "                   )\n"
   ]
  },
  {
   "cell_type": "code",
   "execution_count": 26,
   "metadata": {},
   "outputs": [
    {
     "name": "stdout",
     "output_type": "stream",
     "text": [
      "Found 10357 images belonging to 1 classes.\n"
     ]
    }
   ],
   "source": [
    "# Call valid__data_gen to flow images from directory of test\n",
    "valid_gen= valid__data_gen.flow_from_directory('dog-breed-identification',  target_size=(IMG_SIZE, IMG_SIZE), classes=['test'])"
   ]
  },
  {
   "cell_type": "code",
   "execution_count": 27,
   "metadata": {},
   "outputs": [
    {
     "name": "stderr",
     "output_type": "stream",
     "text": [
      "/opt/anaconda3/lib/python3.12/site-packages/keras/src/trainers/data_adapters/py_dataset_adapter.py:121: UserWarning: Your `PyDataset` class should call `super().__init__(**kwargs)` in its constructor. `**kwargs` can include `workers`, `use_multiprocessing`, `max_queue_size`. Do not pass these arguments to `fit()`, as they will be ignored.\n",
      "  self._warn_if_super_not_called()\n"
     ]
    },
    {
     "name": "stdout",
     "output_type": "stream",
     "text": [
      "\u001b[1m324/324\u001b[0m \u001b[32m━━━━━━━━━━━━━━━━━━━━\u001b[0m\u001b[37m\u001b[0m \u001b[1m661s\u001b[0m 2s/step\n"
     ]
    }
   ],
   "source": [
    "# Run predictions on the model using the test generator\n",
    "y_pred = model.predict(valid_gen)"
   ]
  },
  {
   "cell_type": "code",
   "execution_count": 28,
   "metadata": {},
   "outputs": [
    {
     "data": {
      "text/plain": [
       "array([[0.00729709, 0.007005  , 0.00995483, ..., 0.01127176, 0.00678398,\n",
       "        0.00574739],\n",
       "       [0.00729745, 0.00700571, 0.00995418, ..., 0.01127107, 0.00678434,\n",
       "        0.00574796],\n",
       "       [0.0072973 , 0.0070054 , 0.00995446, ..., 0.01127137, 0.00678419,\n",
       "        0.00574772],\n",
       "       ...,\n",
       "       [0.0072971 , 0.00700501, 0.00995481, ..., 0.01127175, 0.00678399,\n",
       "        0.0057474 ],\n",
       "       [0.00729767, 0.00700614, 0.00995378, ..., 0.01127064, 0.00678456,\n",
       "        0.00574831],\n",
       "       [0.00729723, 0.00700527, 0.00995458, ..., 0.0112715 , 0.00678412,\n",
       "        0.00574761]], dtype=float32)"
      ]
     },
     "execution_count": 28,
     "metadata": {},
     "output_type": "execute_result"
    }
   ],
   "source": [
    "y_pred"
   ]
  },
  {
   "cell_type": "code",
   "execution_count": 29,
   "metadata": {},
   "outputs": [
    {
     "data": {
      "text/plain": [
       "(10357, 120)"
      ]
     },
     "execution_count": 29,
     "metadata": {},
     "output_type": "execute_result"
    }
   ],
   "source": [
    "y_pred.shape"
   ]
  },
  {
   "cell_type": "code",
   "execution_count": 31,
   "metadata": {},
   "outputs": [],
   "source": [
    "import re\n",
    "\n",
    "# Get all filenames and put them into the list for the submission file\n",
    "file_list = valid_gen.filenames\n",
    "id_list = []\n",
    "for name in file_list:\n",
    "    m = re.sub('test/', '', name)\n",
    "    m = re.sub('.jpg', '', m)\n",
    "    id_list.append(m)\n"
   ]
  },
  {
   "cell_type": "code",
   "execution_count": 32,
   "metadata": {},
   "outputs": [
    {
     "data": {
      "text/html": [
       "<div>\n",
       "<style scoped>\n",
       "    .dataframe tbody tr th:only-of-type {\n",
       "        vertical-align: middle;\n",
       "    }\n",
       "\n",
       "    .dataframe tbody tr th {\n",
       "        vertical-align: top;\n",
       "    }\n",
       "\n",
       "    .dataframe thead th {\n",
       "        text-align: right;\n",
       "    }\n",
       "</style>\n",
       "<table border=\"1\" class=\"dataframe\">\n",
       "  <thead>\n",
       "    <tr style=\"text-align: right;\">\n",
       "      <th></th>\n",
       "      <th>id</th>\n",
       "      <th>affenpinscher</th>\n",
       "      <th>afghan_hound</th>\n",
       "      <th>african_hunting_dog</th>\n",
       "      <th>airedale</th>\n",
       "      <th>american_staffordshire_terrier</th>\n",
       "      <th>appenzeller</th>\n",
       "      <th>australian_terrier</th>\n",
       "      <th>basenji</th>\n",
       "      <th>basset</th>\n",
       "      <th>...</th>\n",
       "      <th>toy_poodle</th>\n",
       "      <th>toy_terrier</th>\n",
       "      <th>vizsla</th>\n",
       "      <th>walker_hound</th>\n",
       "      <th>weimaraner</th>\n",
       "      <th>welsh_springer_spaniel</th>\n",
       "      <th>west_highland_white_terrier</th>\n",
       "      <th>whippet</th>\n",
       "      <th>wire-haired_fox_terrier</th>\n",
       "      <th>yorkshire_terrier</th>\n",
       "    </tr>\n",
       "  </thead>\n",
       "  <tbody>\n",
       "    <tr>\n",
       "      <th>0</th>\n",
       "      <td>000621fb3cbb32d8935728e48679680e</td>\n",
       "      <td>0.007297</td>\n",
       "      <td>0.007005</td>\n",
       "      <td>0.009955</td>\n",
       "      <td>0.008706</td>\n",
       "      <td>0.009105</td>\n",
       "      <td>0.008407</td>\n",
       "      <td>0.006952</td>\n",
       "      <td>0.012239</td>\n",
       "      <td>0.00943</td>\n",
       "      <td>...</td>\n",
       "      <td>0.007237</td>\n",
       "      <td>0.00859</td>\n",
       "      <td>0.007617</td>\n",
       "      <td>0.007855</td>\n",
       "      <td>0.009338</td>\n",
       "      <td>0.009202</td>\n",
       "      <td>0.005706</td>\n",
       "      <td>0.011272</td>\n",
       "      <td>0.006784</td>\n",
       "      <td>0.005747</td>\n",
       "    </tr>\n",
       "    <tr>\n",
       "      <th>1</th>\n",
       "      <td>00102ee9d8eb90812350685311fe5890</td>\n",
       "      <td>0.007297</td>\n",
       "      <td>0.007006</td>\n",
       "      <td>0.009954</td>\n",
       "      <td>0.008706</td>\n",
       "      <td>0.009105</td>\n",
       "      <td>0.008406</td>\n",
       "      <td>0.006952</td>\n",
       "      <td>0.012238</td>\n",
       "      <td>0.00943</td>\n",
       "      <td>...</td>\n",
       "      <td>0.007238</td>\n",
       "      <td>0.00859</td>\n",
       "      <td>0.007617</td>\n",
       "      <td>0.007854</td>\n",
       "      <td>0.009337</td>\n",
       "      <td>0.009201</td>\n",
       "      <td>0.005707</td>\n",
       "      <td>0.011271</td>\n",
       "      <td>0.006784</td>\n",
       "      <td>0.005748</td>\n",
       "    </tr>\n",
       "    <tr>\n",
       "      <th>2</th>\n",
       "      <td>0012a730dfa437f5f3613fb75efcd4ce</td>\n",
       "      <td>0.007297</td>\n",
       "      <td>0.007005</td>\n",
       "      <td>0.009954</td>\n",
       "      <td>0.008706</td>\n",
       "      <td>0.009105</td>\n",
       "      <td>0.008406</td>\n",
       "      <td>0.006952</td>\n",
       "      <td>0.012239</td>\n",
       "      <td>0.00943</td>\n",
       "      <td>...</td>\n",
       "      <td>0.007237</td>\n",
       "      <td>0.00859</td>\n",
       "      <td>0.007617</td>\n",
       "      <td>0.007854</td>\n",
       "      <td>0.009338</td>\n",
       "      <td>0.009201</td>\n",
       "      <td>0.005707</td>\n",
       "      <td>0.011271</td>\n",
       "      <td>0.006784</td>\n",
       "      <td>0.005748</td>\n",
       "    </tr>\n",
       "    <tr>\n",
       "      <th>3</th>\n",
       "      <td>001510bc8570bbeee98c8d80c8a95ec1</td>\n",
       "      <td>0.007297</td>\n",
       "      <td>0.007005</td>\n",
       "      <td>0.009955</td>\n",
       "      <td>0.008706</td>\n",
       "      <td>0.009105</td>\n",
       "      <td>0.008407</td>\n",
       "      <td>0.006952</td>\n",
       "      <td>0.012239</td>\n",
       "      <td>0.00943</td>\n",
       "      <td>...</td>\n",
       "      <td>0.007237</td>\n",
       "      <td>0.00859</td>\n",
       "      <td>0.007617</td>\n",
       "      <td>0.007854</td>\n",
       "      <td>0.009338</td>\n",
       "      <td>0.009202</td>\n",
       "      <td>0.005706</td>\n",
       "      <td>0.011272</td>\n",
       "      <td>0.006784</td>\n",
       "      <td>0.005747</td>\n",
       "    </tr>\n",
       "    <tr>\n",
       "      <th>4</th>\n",
       "      <td>001a5f3114548acdefa3d4da05474c2e</td>\n",
       "      <td>0.007297</td>\n",
       "      <td>0.007006</td>\n",
       "      <td>0.009954</td>\n",
       "      <td>0.008706</td>\n",
       "      <td>0.009105</td>\n",
       "      <td>0.008406</td>\n",
       "      <td>0.006952</td>\n",
       "      <td>0.012238</td>\n",
       "      <td>0.00943</td>\n",
       "      <td>...</td>\n",
       "      <td>0.007238</td>\n",
       "      <td>0.00859</td>\n",
       "      <td>0.007617</td>\n",
       "      <td>0.007854</td>\n",
       "      <td>0.009338</td>\n",
       "      <td>0.009201</td>\n",
       "      <td>0.005707</td>\n",
       "      <td>0.011271</td>\n",
       "      <td>0.006784</td>\n",
       "      <td>0.005748</td>\n",
       "    </tr>\n",
       "  </tbody>\n",
       "</table>\n",
       "<p>5 rows × 121 columns</p>\n",
       "</div>"
      ],
      "text/plain": [
       "                                 id  affenpinscher  afghan_hound  \\\n",
       "0  000621fb3cbb32d8935728e48679680e       0.007297      0.007005   \n",
       "1  00102ee9d8eb90812350685311fe5890       0.007297      0.007006   \n",
       "2  0012a730dfa437f5f3613fb75efcd4ce       0.007297      0.007005   \n",
       "3  001510bc8570bbeee98c8d80c8a95ec1       0.007297      0.007005   \n",
       "4  001a5f3114548acdefa3d4da05474c2e       0.007297      0.007006   \n",
       "\n",
       "   african_hunting_dog  airedale  american_staffordshire_terrier  appenzeller  \\\n",
       "0             0.009955  0.008706                        0.009105     0.008407   \n",
       "1             0.009954  0.008706                        0.009105     0.008406   \n",
       "2             0.009954  0.008706                        0.009105     0.008406   \n",
       "3             0.009955  0.008706                        0.009105     0.008407   \n",
       "4             0.009954  0.008706                        0.009105     0.008406   \n",
       "\n",
       "   australian_terrier   basenji   basset  ...  toy_poodle  toy_terrier  \\\n",
       "0            0.006952  0.012239  0.00943  ...    0.007237      0.00859   \n",
       "1            0.006952  0.012238  0.00943  ...    0.007238      0.00859   \n",
       "2            0.006952  0.012239  0.00943  ...    0.007237      0.00859   \n",
       "3            0.006952  0.012239  0.00943  ...    0.007237      0.00859   \n",
       "4            0.006952  0.012238  0.00943  ...    0.007238      0.00859   \n",
       "\n",
       "     vizsla  walker_hound  weimaraner  welsh_springer_spaniel  \\\n",
       "0  0.007617      0.007855    0.009338                0.009202   \n",
       "1  0.007617      0.007854    0.009337                0.009201   \n",
       "2  0.007617      0.007854    0.009338                0.009201   \n",
       "3  0.007617      0.007854    0.009338                0.009202   \n",
       "4  0.007617      0.007854    0.009338                0.009201   \n",
       "\n",
       "   west_highland_white_terrier   whippet  wire-haired_fox_terrier  \\\n",
       "0                     0.005706  0.011272                 0.006784   \n",
       "1                     0.005707  0.011271                 0.006784   \n",
       "2                     0.005707  0.011271                 0.006784   \n",
       "3                     0.005706  0.011272                 0.006784   \n",
       "4                     0.005707  0.011271                 0.006784   \n",
       "\n",
       "   yorkshire_terrier  \n",
       "0           0.005747  \n",
       "1           0.005748  \n",
       "2           0.005748  \n",
       "3           0.005747  \n",
       "4           0.005748  \n",
       "\n",
       "[5 rows x 121 columns]"
      ]
     },
     "execution_count": 32,
     "metadata": {},
     "output_type": "execute_result"
    }
   ],
   "source": [
    "# Should now be able to see all the probabilities that the initial model predicted in terms of dog breeds\n",
    "\n",
    "submission = pd.read_csv('vgg16_sample_submission.csv')\n",
    "submission.head()\n",
    "submission['id'] = id_list\n",
    "submission.iloc[:,1:] = y_pred\n",
    "submission.head()"
   ]
  },
  {
   "cell_type": "code",
   "execution_count": 33,
   "metadata": {},
   "outputs": [
    {
     "data": {
      "text/plain": [
       "{'accuracy': [0.012229423969984055,\n",
       "  0.01394154317677021,\n",
       "  0.014308426529169083,\n",
       "  0.014797602780163288,\n",
       "  0.01467530895024538,\n",
       "  0.015653662383556366,\n",
       "  0.01638742722570896,\n",
       "  0.01491989754140377,\n",
       "  0.016632016748189926,\n",
       "  0.0169989001005888],\n",
       " 'loss': [4.784600257873535,\n",
       "  4.7660627365112305,\n",
       "  4.745950698852539,\n",
       "  4.727171421051025,\n",
       "  4.704167366027832,\n",
       "  4.693231582641602,\n",
       "  4.675484657287598,\n",
       "  4.668525695800781,\n",
       "  4.6618781089782715,\n",
       "  4.65083646774292],\n",
       " 'val_accuracy': [0.017603911459445953,\n",
       "  0.018581906333565712,\n",
       "  0.021515892818570137,\n",
       "  0.02053789794445038,\n",
       "  0.022493887692689896,\n",
       "  0.018092909827828407,\n",
       "  0.018092909827828407,\n",
       "  0.018581906333565712,\n",
       "  0.01955990307033062,\n",
       "  0.018092909827828407],\n",
       " 'val_loss': [4.772305488586426,\n",
       "  4.759232521057129,\n",
       "  4.733364105224609,\n",
       "  4.701958179473877,\n",
       "  4.669493198394775,\n",
       "  4.6541852951049805,\n",
       "  4.6197075843811035,\n",
       "  4.6160807609558105,\n",
       "  4.597080707550049,\n",
       "  4.578061103820801]}"
      ]
     },
     "execution_count": 33,
     "metadata": {},
     "output_type": "execute_result"
    }
   ],
   "source": [
    "history.history"
   ]
  },
  {
   "cell_type": "code",
   "execution_count": 34,
   "metadata": {
    "trusted": true
   },
   "outputs": [
    {
     "name": "stdout",
     "output_type": "stream",
     "text": [
      "10 <class 'list'>\n"
     ]
    }
   ],
   "source": [
    "# Plot accuracy and loss\n",
    "# Number of values in each list should align to how many epochs were needed to train\n",
    "loss = history.history['loss']\n",
    "val_loss = history.history['val_loss']\n",
    "accuracy = history.history['accuracy']\n",
    "val_accuracy = history.history['val_accuracy']\n",
    "print(len(loss), type(loss))"
   ]
  },
  {
   "cell_type": "code",
   "execution_count": 35,
   "metadata": {
    "trusted": true
   },
   "outputs": [
    {
     "data": {
      "image/png": "[encoded data removed]",
      "text/plain": [
       "<Figure size 640x480 with 1 Axes>"
      ]
     },
     "metadata": {},
     "output_type": "display_data"
    },
    {
     "data": {
      "image/png": "[encoded data removed]",
      "text/plain": [
       "<Figure size 640x480 with 1 Axes>"
      ]
     },
     "metadata": {},
     "output_type": "display_data"
    }
   ],
   "source": [
    "# Initialize x-axis for plots - first plot the loss, then the accuracy\n",
    "epochs = list(range(1, len(loss) + 1))\n",
    "\n",
    "# Loss\n",
    "plt.figure()\n",
    "plt.plot(epochs, loss, label='Training Loss')\n",
    "plt.plot(epochs, val_loss, label='Validation Loss')\n",
    "plt.title(\"Loss during Training\")\n",
    "plt.xlabel(\"Epochs\")\n",
    "plt.ylabel(\"Loss Rate\")\n",
    "plt.legend()\n",
    "plt.show()\n",
    "\n",
    "# Accuracy\n",
    "plt.figure()\n",
    "plt.plot(epochs, accuracy, label='Training Accuracy')\n",
    "plt.plot(epochs, val_accuracy, label='Validation Accuracy')\n",
    "plt.title(\"Accuracy during Training\")\n",
    "plt.xlabel(\"Epochs\")\n",
    "plt.ylabel(\"Accuracy Rate\")\n",
    "plt.legend()\n",
    "plt.show()"
   ]
  },
  {
   "cell_type": "code",
   "execution_count": null,
   "metadata": {
    "trusted": true
   },
   "outputs": [],
   "source": []
  },
  {
   "cell_type": "code",
   "execution_count": null,
   "metadata": {},
   "outputs": [],
   "source": []
  },
  {
   "cell_type": "code",
   "execution_count": null,
   "metadata": {},
   "outputs": [],
   "source": []
  },
  {
   "cell_type": "markdown",
   "metadata": {},
   "source": []
  },
  {
   "cell_type": "markdown",
   "metadata": {},
   "source": []
  },
  {
   "cell_type": "markdown",
   "metadata": {},
   "source": []
  },
  {
   "cell_type": "markdown",
   "metadata": {},
   "source": []
  },
  {
   "cell_type": "markdown",
   "metadata": {},
   "source": []
  },
  {
   "cell_type": "code",
   "execution_count": null,
   "metadata": {},
   "outputs": [],
   "source": []
  }
 ],
 "metadata": {
  "kaggle": {
   "accelerator": "nvidiaTeslaT4",
   "dataSources": [
    {
     "databundleVersionId": 861871,
     "sourceId": 7327,
     "sourceType": "competition"
    }
   ],
   "dockerImageVersionId": 31041,
   "isGpuEnabled": true,
   "isInternetEnabled": true,
   "language": "python",
   "sourceType": "notebook"
  },
  "kernelspec": {
   "display_name": "base",
   "language": "python",
   "name": "python3"
  },
  "language_info": {
   "codemirror_mode": {
    "name": "ipython",
    "version": 3
   },
   "file_extension": ".py",
   "mimetype": "text/x-python",
   "name": "python",
   "nbconvert_exporter": "python",
   "pygments_lexer": "ipython3",
   "version": "3.12.2"
  }
 },
 "nbformat": 4,
 "nbformat_minor": 4
}
